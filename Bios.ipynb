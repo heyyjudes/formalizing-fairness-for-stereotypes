{
 "cells": [
  {
   "cell_type": "code",
   "execution_count": 9,
   "id": "c9f9f93e",
   "metadata": {},
   "outputs": [
    {
     "name": "stdout",
     "output_type": "stream",
     "text": [
      "The autoreload extension is already loaded. To reload it, use:\n",
      "  %reload_ext autoreload\n"
     ]
    }
   ],
   "source": [
    "import datasets as ds\n",
    "import utils as ut\n",
    "import models as md\n",
    "\n",
    "# sklearn\n",
    "from sklearn.linear_model import LogisticRegression\n",
    "from sklearn.metrics import accuracy_score\n",
    "from sklearn.decomposition import PCA\n",
    "import skfuzzy as fuzz\n",
    "\n",
    "\n",
    "# fairlearn\n",
    "import fasttext\n",
    "\n",
    "# libs\n",
    "import numpy as np\n",
    "import pandas as pd\n",
    "import seaborn as sns\n",
    "import matplotlib.pyplot as plt\n",
    "import scipy.stats as stats\n",
    "\n",
    "sns.set_theme()\n",
    "\n",
    "from sklearn.model_selection import ShuffleSplit\n",
    "\n",
    "%load_ext autoreload\n",
    "%autoreload 2"
   ]
  },
  {
   "cell_type": "markdown",
   "id": "0f66f506-211f-4c34-9e46-59cdf6c3559b",
   "metadata": {},
   "source": [
    "## Section 1: Auditing with repsect to stereotypes "
   ]
  },
  {
   "cell_type": "code",
   "execution_count": 3,
   "id": "13ab5720",
   "metadata": {},
   "outputs": [
    {
     "name": "stdout",
     "output_type": "stream",
     "text": [
      "generating fast text vectors\n"
     ]
    },
    {
     "name": "stderr",
     "output_type": "stream",
     "text": [
      "46878it [00:30, 1545.61it/s]\n"
     ]
    },
    {
     "name": "stdout",
     "output_type": "stream",
     "text": [
      "32814\n",
      "generating fast text vectors\n"
     ]
    },
    {
     "name": "stderr",
     "output_type": "stream",
     "text": [
      "8860it [00:05, 1610.33it/s]\n"
     ]
    },
    {
     "name": "stdout",
     "output_type": "stream",
     "text": [
      "6202\n"
     ]
    }
   ],
   "source": [
    "rep = \"WE\"\n",
    "ft = fasttext.load_model(\"cc.en.300.bin\")\n",
    "occupation = \"attorney\"\n",
    "all_dataset = ds.Dataset(\"biasbios\", target_occ=occupation, rep=rep)\n",
    "all_dataset.split_train_test()\n",
    "print(len(all_dataset.y_train))\n",
    "occ_dataset = ds.Dataset(\"biasbios\", target_occ=occupation, rep=rep, balanced=True)\n",
    "occ_dataset.split_train_test()\n",
    "print(len(occ_dataset.y_train))"
   ]
  },
  {
   "cell_type": "code",
   "execution_count": 7,
   "id": "7080349a",
   "metadata": {},
   "outputs": [
    {
     "name": "stdout",
     "output_type": "stream",
     "text": [
      "base clf acc: 0.887 male acc: 0.893 female acc: 0.884\n"
     ]
    }
   ],
   "source": [
    "# base predictor\n",
    "clf = LogisticRegression(max_iter=500)\n",
    "clf.fit(occ_dataset.x_train, occ_dataset.y_train)\n",
    "\n",
    "p = clf.predict_proba(occ_dataset.x_test)[:, 1]\n",
    "p_acc = accuracy_score(occ_dataset.y_test, p > 0.5)\n",
    "\n",
    "mask = occ_dataset.g_test == 0\n",
    "male_acc = accuracy_score(occ_dataset.y_test[mask], p[mask] > 0.5)\n",
    "female_acc = accuracy_score(occ_dataset.y_test[~mask], p[~mask] > 0.5)\n",
    "\n",
    "print(\n",
    "    f\"base clf acc: {p_acc:.3f} male acc: {male_acc:.3f} female acc: {female_acc:.3f}\"\n",
    ")"
   ]
  },
  {
   "cell_type": "code",
   "execution_count": 8,
   "id": "847797e8-4f6f-489e-a077-71a4c97c1ea7",
   "metadata": {},
   "outputs": [
    {
     "name": "stdout",
     "output_type": "stream",
     "text": [
      "clf g_occ acc: 0.666\n",
      "clf g acc: 0.661\n"
     ]
    }
   ],
   "source": [
    "g_clf = LogisticRegression(max_iter=500)\n",
    "g_clf.fit(occ_dataset.x_train, occ_dataset.g_train)\n",
    "g_occ_pred = g_clf.predict_proba(occ_dataset.x_test)[:, 1]\n",
    "print(\n",
    "    f\"clf g_occ acc: {accuracy_score(occ_dataset.g_test, \n",
    "                                       g_clf.predict(occ_dataset.x_test)):.3f}\"\n",
    ")\n",
    "\n",
    "occ_clf = LogisticRegression(max_iter=500)\n",
    "occ_clf.fit(all_dataset.x_train, all_dataset.g_train)\n",
    "g_all_pred = occ_clf.predict_proba(all_dataset.x_test)[:, 1]\n",
    "print(\n",
    "    f\"clf g acc: {accuracy_score(all_dataset.g_test, \n",
    "                                  occ_clf.predict(all_dataset.x_test)):.3f}\"\n",
    ")"
   ]
  },
  {
   "cell_type": "code",
   "execution_count": 11,
   "id": "193fc6ac-a744-4ef0-b322-899cdd726960",
   "metadata": {},
   "outputs": [
    {
     "data": {
      "image/png": "[encoded data removed]",
      "text/plain": [
       "<Figure size 1200x500 with 2 Axes>"
      ]
     },
     "metadata": {},
     "output_type": "display_data"
    }
   ],
   "source": [
    "plt.figure(figsize=(12, 5))\n",
    "\n",
    "# First histogram\n",
    "plt.subplot(1, 2, 1)\n",
    "sns.histplot(data=g_all_pred, alpha=0.6)\n",
    "plt.title(r\"$\\hat{p}_g^{(all)}$ Distribution\")\n",
    "plt.xlabel(\"Value\")\n",
    "plt.ylabel(\"Count\")\n",
    "\n",
    "# Second histogram\n",
    "plt.subplot(1, 2, 2)\n",
    "sns.histplot(data=g_occ_pred, alpha=0.6)\n",
    "plt.title(r\"$\\hat{p}_g^{(law)}$ Distribution\")\n",
    "plt.xlabel(\"Value\")\n",
    "plt.ylabel(\"Count\")\n",
    "\n",
    "# Adjust layout to prevent overlap\n",
    "plt.tight_layout()\n",
    "\n",
    "# Show the plot\n",
    "plt.show()"
   ]
  },
  {
   "cell_type": "code",
   "execution_count": 12,
   "id": "a1be7a99-f994-4dad-a76b-21ca2fb40cfe",
   "metadata": {},
   "outputs": [],
   "source": [
    "def find_means(input_x, input_g, n_dim=2):\n",
    "    # hard coded gender dimensions\n",
    "    gendered_word_list = [\n",
    "        (\"man\", \"woman\"),\n",
    "        (\"men\", \"women\"),\n",
    "        (\"he\", \"she\"),\n",
    "        (\"boy\", \"girl\"),\n",
    "        (\"king\", \"queen\"),\n",
    "        (\"male\", \"female\"),\n",
    "        (\"son\", \"daughter\"),\n",
    "        (\"himself\", \"herself\"),\n",
    "        (\"his\", \"hers\"),\n",
    "        (\"guy\", \"gal\"),\n",
    "        (\"father\", \"mother\"),\n",
    "    ]\n",
    "\n",
    "    top_diff_dim = []\n",
    "    for word1, word2 in gendered_word_list:\n",
    "        m = ft.get_word_vector(word1)\n",
    "        f = ft.get_word_vector(word2)\n",
    "        diff_vec = f - m\n",
    "        top_diff_dim.append(np.argsort(diff_vec)[:5])  # [::-1][:10])\n",
    "\n",
    "    vals, cnts = np.unique(np.concatenate(top_diff_dim), return_counts=True)\n",
    "    ind = vals[np.argsort(cnts)[::-1]][:n_dim]\n",
    "    x = input_x[:, ind]\n",
    "\n",
    "    mask = input_g == 0\n",
    "    group1_mean = np.mean(x[mask], axis=0)\n",
    "    mask = input_g == 1\n",
    "    group2_mean = np.mean(x[mask], axis=0)\n",
    "\n",
    "    empirical_means = np.vstack([group1_mean, group2_mean]).T\n",
    "    return empirical_means, ind\n",
    "\n",
    "\n",
    "def infer_fuzzy(input_data, ind, cntr, n_dim=2):\n",
    "    print(input_data[:, ind].T.shape, cntr.shape)\n",
    "    u, u0, d, jm, p, fpc = fuzz.cluster.cmeans_predict(\n",
    "        test_data=input_data[:, ind].T,  # S x c\n",
    "        cntr_trained=cntr,  # S x c\n",
    "        m=2,\n",
    "        error=0.005,\n",
    "        maxiter=1000,\n",
    "    )\n",
    "    return u"
   ]
  },
  {
   "cell_type": "code",
   "execution_count": 13,
   "id": "9c2b81b1-d240-4c7e-8e3c-1ab5296535be",
   "metadata": {},
   "outputs": [],
   "source": [
    "# stereotype predictors:\n",
    "# 1) overall pg\n",
    "all_pg_clf = LogisticRegression(max_iter=500)\n",
    "all_pg_clf.fit(all_dataset.x_train, all_dataset.g_train)\n",
    "all_pg = all_pg_clf.predict_proba(occ_dataset.x_test)[:, 1]\n",
    "\n",
    "# 2) professor pg\n",
    "occ_pg_clf = LogisticRegression(max_iter=500)\n",
    "occ_pg_clf.fit(occ_dataset.x_train, occ_dataset.g_train)\n",
    "occ_pg = occ_pg_clf.predict_proba(occ_dataset.x_test)[:, 1]\n",
    "\n",
    "# 4) clustering\n",
    "cntr, ind = find_means(\n",
    "    input_x=occ_dataset.x_train, input_g=occ_dataset.g_train, n_dim=4\n",
    ")\n",
    "\n",
    "cluster_pg_clf = md.FuzzyClusterPredictor(cntr.T, ind)\n",
    "cluster_pg = cluster_pg_clf.predict_proba(occ_dataset.x_test)[:, 1]"
   ]
  },
  {
   "cell_type": "code",
   "execution_count": 14,
   "id": "6c46e94f-2453-4006-8db9-990971540170",
   "metadata": {},
   "outputs": [
    {
     "name": "stdout",
     "output_type": "stream",
     "text": [
      "all_pg\n",
      "acc 0.661\n",
      "cov(y, pg) 0.010362296033623793\n",
      "corr(y, pg) PearsonRResult(statistic=np.float64(0.11739278274225597), pvalue=np.float64(1.7833353879792278e-05))\n",
      "cov(p, pg) 0.010654948226761529\n",
      "corr(p, pg) PearsonRResult(statistic=np.float64(0.1437125667779784), pvalue=np.float64(1.4287641596810523e-07))\n",
      "cov(p, pg | y=1) 0.0023854419540291255\n",
      "corr(p, pg | y=1) PearsonRResult(statistic=np.float64(0.06006406633665495), pvalue=np.float64(0.12205078296312463))\n",
      "occ_pg\n",
      "acc 0.666\n",
      "cov(y, pg) 0.016128209770784527\n",
      "corr(y, pg) PearsonRResult(statistic=np.float64(0.15924214191394503), pvalue=np.float64(5.312813448067718e-09))\n",
      "cov(p, pg) 0.017017608212855875\n",
      "corr(p, pg) PearsonRResult(statistic=np.float64(0.2000453073005431), pvalue=np.float64(1.8335941821652137e-13))\n",
      "cov(p, pg | y=1) 0.003928531480889716\n",
      "corr(p, pg | y=1) PearsonRResult(statistic=np.float64(0.0820433719570081), pvalue=np.float64(0.03454168375346984))\n",
      "cluster_pg\n",
      "acc 0.547\n",
      "cov(y, pg) 0.0020187175987785655\n",
      "corr(y, pg) PearsonRResult(statistic=np.float64(0.09452525202719692), pvalue=np.float64(0.000559660267250082))\n",
      "cov(p, pg) 0.0016928208678585529\n",
      "corr(p, pg) PearsonRResult(statistic=np.float64(0.0943715914678108), pvalue=np.float64(0.0005714563477473615))\n",
      "cov(p, pg | y=1) -0.0019994044629504837\n",
      "corr(p, pg | y=1) PearsonRResult(statistic=np.float64(-0.18072647186900015), pvalue=np.float64(2.7741841309337614e-06))\n"
     ]
    }
   ],
   "source": [
    "# evaluate stereotype predictors\n",
    "\n",
    "results = {}\n",
    "p = clf.predict_proba(occ_dataset.x_test)[:, 1]\n",
    "for pg, name in zip([all_pg, occ_pg, cluster_pg], [\"all_pg\", \"occ_pg\", \"cluster_pg\"]):\n",
    "    print(name)\n",
    "    # group prediction accuracy\n",
    "    print(f\"acc {accuracy_score(occ_dataset.g_test, pg>0.5):.3f}\")\n",
    "    print(\"cov(y, pg)\", ut.emp_cov(occ_dataset.y_test, pg))\n",
    "    print(\"corr(y, pg)\", stats.pearsonr(occ_dataset.y_test, pg))\n",
    "    print(\"cov(p, pg)\", ut.emp_cov(p, pg))\n",
    "    print(\"corr(p, pg)\", stats.pearsonr(p, pg))\n",
    "    results[name] = {}\n",
    "    results[name][\"DP\"] = ut.emp_cov(p, pg)\n",
    "    results[name][\"DP_corr\"] = stats.pearsonr(p, pg)\n",
    "\n",
    "    mask = occ_dataset.y_test == 1\n",
    "    print(\"cov(p, pg | y=1)\", ut.emp_cov(p[mask], pg[mask]))\n",
    "    print(\"corr(p, pg | y=1)\", stats.pearsonr(p[mask], pg[mask]))\n",
    "    results[name][\"EO\"] = ut.emp_cov(p[mask], pg[mask])\n",
    "    results[name][\"EO_corr\"] = stats.pearsonr(p[mask], pg[mask])\n",
    "\n",
    "    results[name][\"MA\"] = np.abs(ut.emp_cov(p, pg) - ut.emp_cov(occ_dataset.y_test, pg))"
   ]
  },
  {
   "cell_type": "markdown",
   "id": "ef4493a2-afe4-4d3e-b703-985fc778d0a1",
   "metadata": {},
   "source": [
    "## Demographic Parity"
   ]
  },
  {
   "cell_type": "code",
   "execution_count": null,
   "id": "f68a115f-cadb-4c1e-b0fa-15e33b2f23cb",
   "metadata": {
    "scrolled": true
   },
   "outputs": [],
   "source": [
    "# DP Post Processing\n",
    "DP_plot = []\n",
    "dataset = occ_dataset\n",
    "\n",
    "all_pg_clf = LogisticRegression(max_iter=500)\n",
    "all_pg_clf.fit(all_dataset.x_train, all_dataset.g_train)\n",
    "\n",
    "cv = ShuffleSplit(n_splits=10, test_size=0.1, random_state=42)\n",
    "\n",
    "i = 0\n",
    "for train_idx, _ in cv.split(dataset.x_train, dataset.y_train):\n",
    "    i += 1\n",
    "    # 1. Subsampled data\n",
    "    x_train_sub = occ_dataset.x_train[train_idx]\n",
    "    y_train_sub = occ_dataset.y_train[train_idx]\n",
    "    g_train_sub = occ_dataset.g_train[train_idx]\n",
    "\n",
    "    # 2. Fit models\n",
    "    clf = LogisticRegression()\n",
    "    clf.fit(x_train_sub, y_train_sub)\n",
    "\n",
    "    # 2b) professor pg\n",
    "    occ_pg_clf = LogisticRegression()\n",
    "    occ_pg_clf.fit(x_train_sub, g_train_sub)\n",
    "    occ_pg = occ_pg_clf.predict_proba(x_train_sub)[:, 1]\n",
    "\n",
    "    # 2c) clustering\n",
    "    cntr, ind = find_means(input_x=x_train_sub, input_g=g_train_sub, n_dim=4)\n",
    "\n",
    "    cluster_pg_clf = md.FuzzyClusterPredictor(cntr.T, ind)\n",
    "    cluster_pg = cluster_pg_clf.predict_proba(occ_dataset.x_test)[:, 1]\n",
    "\n",
    "    pg_dict = {\"all_pg\": all_pg_clf, \"occ_pg\": occ_pg_clf, \"cluster_pg\": cluster_pg_clf}\n",
    "\n",
    "    prev_results = ut.results_summary(\n",
    "        p=clf.predict_proba(dataset.x_test)[:, 1],\n",
    "        pg_dict=pg_dict,\n",
    "        x=occ_dataset.x_test,\n",
    "        y=occ_dataset.y_test,\n",
    "        g=occ_dataset.g_test,\n",
    "    )\n",
    "\n",
    "    clfs = [\n",
    "        ([all_pg_clf], r\"$\\hat{p}_g^{(all)}$\"),\n",
    "        ([occ_pg_clf], r\"$\\hat{p}_g^{(law)}$\"),\n",
    "        ([cluster_pg_clf], r\"$\\hat{p}_g^{(FCM)}$\"),\n",
    "        (\n",
    "            [all_pg_clf, occ_pg_clf, cluster_pg_clf],\n",
    "            r\"$(\\hat{p}_g^{(all)}, \\hat{p}_g^{(law)}, \\hat{p}_g^{(FCM)})$\",\n",
    "        ),\n",
    "    ]\n",
    "\n",
    "    for clf_list, clf_list_name in clfs:\n",
    "        clf = LogisticRegression()\n",
    "        clf.fit(x_train_sub, y_train_sub)\n",
    "\n",
    "        if clf_list_name == r\"$\\hat{p}_g^{(FCM)}$\":\n",
    "            for key in pg_dict.keys():\n",
    "                DP_plot.append(\n",
    "                    {\n",
    "                        \"eval_pg\": key,\n",
    "                        \"intervention_pg\": \"None\",\n",
    "                        \"value\": prev_results[f\"cov(p, {key})\"],\n",
    "                        \"run\": i,\n",
    "                        \"acc\": prev_results[\"accuracy\"],\n",
    "                    }\n",
    "                )\n",
    "\n",
    "        c_post_processed = md.DPMulti(base_clf=clf, pg_clf_list=clf_list)\n",
    "        md.fit_dp_pg_multi(\n",
    "            x=x_train_sub, multi_clf=c_post_processed, alpha=1e-4, max_iter=50\n",
    "        )\n",
    "\n",
    "        results = ut.results_summary(\n",
    "            p=c_post_processed.predict_proba_1d(dataset.x_test),\n",
    "            pg_dict=pg_dict,\n",
    "            x=occ_dataset.x_test,\n",
    "            y=occ_dataset.y_test,\n",
    "            g=occ_dataset.g_test,\n",
    "        )\n",
    "        for key in pg_dict.keys():\n",
    "            DP_plot.append(\n",
    "                {\n",
    "                    \"eval_pg\": key,\n",
    "                    \"intervention_pg\": f\"DP wrt. {clf_list_name}\",\n",
    "                    \"value\": results[f\"cov(p, {key})\"],\n",
    "                    \"acc\": results[\"accuracy\"],\n",
    "                    \"run\": i,\n",
    "                }\n",
    "            )"
   ]
  },
  {
   "cell_type": "code",
   "execution_count": 18,
   "id": "ce68e8c9-fd21-4e59-beec-b2f26a236c1b",
   "metadata": {},
   "outputs": [],
   "source": [
    "plot_df = pd.DataFrame(DP_plot)\n",
    "plot_map = {\n",
    "    \"all_pg\": r\"$\\hat{p}_g^{(all)}$\",\n",
    "    \"occ_pg\": r\"$\\hat{p}_g^{(law)}$\",\n",
    "    \"cluster_pg\": r\"$\\hat{p}_g^{(FCM)}$\",\n",
    "}\n",
    "plot_df[\"eval_pg\"] = plot_df[\"eval_pg\"].map(plot_map)\n",
    "acc_dict = plot_df.groupby(\"intervention_pg\")[\"acc\"].mean().to_dict()"
   ]
  },
  {
   "cell_type": "code",
   "execution_count": 26,
   "id": "f02bea60-0c2c-472b-9fda-569e0273cd15",
   "metadata": {},
   "outputs": [
    {
     "data": {
      "image/png": "[encoded data removed]",
      "text/plain": [
       "<Figure size 1500x400 with 4 Axes>"
      ]
     },
     "metadata": {},
     "output_type": "display_data"
    }
   ],
   "source": [
    "fig, axes = plt.subplots(1, 4, figsize=(15, 4), sharey=True)\n",
    "\n",
    "intervention_list = [\n",
    "    key for key in plot_df[\"intervention_pg\"].value_counts().index if key != \"None\"\n",
    "]\n",
    "\n",
    "for i, key in enumerate(intervention_list):\n",
    "    ax = axes.flatten()[i]\n",
    "    subplot_df = plot_df[plot_df[\"intervention_pg\"].isin([key, \"None\"])]\n",
    "    sns.barplot(\n",
    "        data=subplot_df,\n",
    "        x=\"eval_pg\",\n",
    "        hue_order=[\"None\", key],\n",
    "        y=\"value\",\n",
    "        hue=\"intervention_pg\",\n",
    "        ax=ax,\n",
    "    )\n",
    "    ax.legend(title=None, loc=\"upper right\")\n",
    "    ax.set_ylim(-0.001, 0.025)\n",
    "    ax.set_xlabel(r\"$\\hat{p}_g$\")\n",
    "    ax.set_ylabel(r\"DP $Cov(p, \\hat{p}_g)$\")\n",
    "    ax.set_title(f\"{key} (Acc. {acc_dict[key]:.3f})\")\n",
    "\n",
    "plt.tight_layout()\n",
    "# plt.savefig('img/bios/dp_all_bios.pdf') uncomment to save the plot"
   ]
  },
  {
   "cell_type": "markdown",
   "id": "b0c436a6-d602-4b47-a96f-1f85c2fbf031",
   "metadata": {},
   "source": [
    "## Equal Opportunity"
   ]
  },
  {
   "cell_type": "code",
   "execution_count": null,
   "id": "3ee9e4e2-6fb5-4a6a-bf73-f6766439fd96",
   "metadata": {
    "scrolled": true
   },
   "outputs": [],
   "source": [
    "# EO Post Processing\n",
    "EO_plot = []\n",
    "\n",
    "dataset = occ_dataset\n",
    "\n",
    "clf_list_name = r\"$(\\hat{p}_g^{(all)}, \\hat{p}_g^{(law)}, \\hat{p}_g^{(FCM)})$\"\n",
    "# all pg one time:\n",
    "# 2a) overall pg\n",
    "all_pg_clf = LogisticRegression()\n",
    "all_pg_clf.fit(all_dataset.x_train, all_dataset.g_train)\n",
    "\n",
    "cv = ShuffleSplit(n_splits=10, test_size=0.1, random_state=42)\n",
    "acc_list = []\n",
    "\n",
    "i = 0\n",
    "for train_idx, _ in cv.split(dataset.x_train, dataset.y_train):\n",
    "    i += 1\n",
    "    # 1. Subsampled data\n",
    "    x_train_sub = occ_dataset.x_train[train_idx]\n",
    "    y_train_sub = occ_dataset.y_train[train_idx]\n",
    "    g_train_sub = occ_dataset.g_train[train_idx]\n",
    "\n",
    "    # 2. Fit models\n",
    "    clf = LogisticRegression()\n",
    "    clf.fit(x_train_sub, y_train_sub)\n",
    "\n",
    "    # 2b) professor pg\n",
    "    occ_pg_clf = LogisticRegression()\n",
    "    occ_pg_clf.fit(x_train_sub, g_train_sub)\n",
    "    occ_pg = occ_pg_clf.predict_proba(x_train_sub)[:, 1]\n",
    "\n",
    "    # 2c) clustering\n",
    "    cntr, ind = find_means(input_x=x_train_sub, input_g=g_train_sub, n_dim=4)\n",
    "\n",
    "    cluster_pg_clf = md.FuzzyClusterPredictor(cntr.T, ind)\n",
    "    cluster_pg = cluster_pg_clf.predict_proba(occ_dataset.x_test)[:, 1]\n",
    "\n",
    "    pg_dict = {\"all_pg\": all_pg_clf, \"occ_pg\": occ_pg_clf, \"cluster_pg\": cluster_pg_clf}\n",
    "\n",
    "    prev_results = ut.results_summary(\n",
    "        p=clf.predict_proba(dataset.x_test)[:, 1],\n",
    "        pg_dict=pg_dict,\n",
    "        x=occ_dataset.x_test,\n",
    "        y=occ_dataset.y_test,\n",
    "        g=occ_dataset.g_test,\n",
    "    )\n",
    "\n",
    "    clfs = [\n",
    "        ([all_pg_clf], r\"$\\hat{p}_g^{(all)}$\"),\n",
    "        ([occ_pg_clf], r\"$\\hat{p}_g^{(harm)}$\"),\n",
    "        ([cluster_pg_clf], r\"$\\hat{p}_g^{(FCM)}$\"),\n",
    "        (\n",
    "            [all_pg_clf, occ_pg_clf, cluster_pg_clf],\n",
    "            r\"$(\\hat{p}_g^{(all)}, \\hat{p}_g^{(harm)}, \\hat{p}_g^{(FCM)})$\",\n",
    "        ),\n",
    "    ]\n",
    "\n",
    "    for clf_list, clf_list_name in clfs:\n",
    "        if clf_list_name == r\"$\\hat{p}_g^{(FCM)}$\":\n",
    "            for key in pg_dict.keys():\n",
    "                EO_plot.append(\n",
    "                    {\n",
    "                        \"eval_pg\": key,\n",
    "                        \"intervention_pg\": \"None\",\n",
    "                        \"value\": np.abs(prev_results[f\"cov(p, {key} |y=1)\"]),\n",
    "                        \"run\": i,\n",
    "                        \"acc\": prev_results[\"accuracy\"],\n",
    "                    }\n",
    "                )\n",
    "\n",
    "        eo_clf = md.EOClf(base_clf=clf, pg_clf_list=clf_list)\n",
    "        eo_clf.fit_exact(x=x_train_sub, y=y_train_sub)\n",
    "\n",
    "        results = ut.results_summary(\n",
    "            p=eo_clf.predict_proba(dataset.x_test)[:, 1],\n",
    "            pg_dict=pg_dict,\n",
    "            x=occ_dataset.x_test,\n",
    "            y=occ_dataset.y_test,\n",
    "            g=occ_dataset.g_test,\n",
    "        )\n",
    "        for key in pg_dict.keys():\n",
    "            EO_plot.append(\n",
    "                {\n",
    "                    \"eval_pg\": key,\n",
    "                    \"intervention_pg\": f\"EO wrt. {clf_list_name}\",\n",
    "                    \"value\": np.abs(results[f\"cov(p, {key} |y=1)\"]),\n",
    "                    \"acc\": results[\"accuracy\"],\n",
    "                    \"run\": i,\n",
    "                }\n",
    "            )"
   ]
  },
  {
   "cell_type": "code",
   "execution_count": 29,
   "id": "cd096fb7-b300-44f5-a5fb-71d578c5ef8a",
   "metadata": {},
   "outputs": [
    {
     "data": {
      "image/png": "[encoded data removed]",
      "text/plain": [
       "<Figure size 1500x400 with 4 Axes>"
      ]
     },
     "metadata": {},
     "output_type": "display_data"
    }
   ],
   "source": [
    "plot_df = pd.DataFrame(EO_plot)\n",
    "plot_map = {\n",
    "    \"all_pg\": r\"$\\hat{p}_g^{(all)}$\",\n",
    "    \"occ_pg\": r\"$\\hat{p}_g^{(law)}$\",\n",
    "    \"cluster_pg\": r\"$\\hat{p}_g^{(FCM)}$\",\n",
    "}\n",
    "plot_df[\"eval_pg\"] = plot_df[\"eval_pg\"].map(plot_map)\n",
    "acc_dict = plot_df.groupby(\"intervention_pg\")[\"acc\"].mean().to_dict()\n",
    "\n",
    "fig, axes = plt.subplots(1, 4, figsize=(15, 4), sharey=True)\n",
    "\n",
    "intervention_list = [\n",
    "    key for key in plot_df[\"intervention_pg\"].value_counts().index if key != \"None\"\n",
    "]\n",
    "\n",
    "\n",
    "for i, key in enumerate(intervention_list):\n",
    "    ax = axes.flatten()[i]\n",
    "    subplot_df = plot_df[plot_df[\"intervention_pg\"].isin([key, \"None\"])]\n",
    "    sns.barplot(\n",
    "        data=subplot_df,\n",
    "        x=\"eval_pg\",\n",
    "        y=\"value\",\n",
    "        hue_order=[\"None\", key],\n",
    "        hue=\"intervention_pg\",\n",
    "        ax=ax,\n",
    "    )\n",
    "    ax.legend(title=None, loc=\"upper right\")\n",
    "    ax.set_xlabel(r\"$\\hat{p}_g$\")\n",
    "    ax.set_ylabel(r\"EO $Cov(p, \\hat{p}_g)$\")\n",
    "    ax.set_title(f\"{key} (Acc. {acc_dict[key]:.3f})\")\n",
    "\n",
    "plt.tight_layout()\n",
    "plt.savefig(\"img/bios/eo_all_bios.pdf\")"
   ]
  }
 ],
 "metadata": {
  "kernelspec": {
   "display_name": "Python 3 (ipykernel)",
   "language": "python",
   "name": "python3"
  },
  "language_info": {
   "codemirror_mode": {
    "name": "ipython",
    "version": 3
   },
   "file_extension": ".py",
   "mimetype": "text/x-python",
   "name": "python",
   "nbconvert_exporter": "python",
   "pygments_lexer": "ipython3",
   "version": "3.11.11"
  }
 },
 "nbformat": 4,
 "nbformat_minor": 5
}
