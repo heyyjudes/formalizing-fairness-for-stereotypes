{
 "cells": [
  {
   "cell_type": "code",
   "execution_count": 204,
   "id": "d466a63d",
   "metadata": {},
   "outputs": [
    {
     "name": "stdout",
     "output_type": "stream",
     "text": [
      "The autoreload extension is already loaded. To reload it, use:\n",
      "  %reload_ext autoreload\n"
     ]
    }
   ],
   "source": [
    "import datasets as ds\n",
    "import utils as ut\n",
    "import models as md\n",
    "\n",
    "# sklearn\n",
    "from sklearn.pipeline import Pipeline\n",
    "from sklearn.preprocessing import StandardScaler\n",
    "from sklearn.linear_model import LogisticRegression\n",
    "from sklearn.metrics import accuracy_score\n",
    "\n",
    "# fairlearn\n",
    "from fairlearn.postprocessing import ThresholdOptimizer\n",
    "from xgboost import XGBClassifier\n",
    "\n",
    "# libs \n",
    "import numpy as np\n",
    "import pandas as pd\n",
    "import seaborn as sns\n",
    "import matplotlib.pyplot as plt\n",
    "import scipy.stats as stats\n",
    "\n",
    "%load_ext autoreload\n",
    "%autoreload 2"
   ]
  },
  {
   "cell_type": "code",
   "execution_count": 192,
   "id": "ea10d16f",
   "metadata": {},
   "outputs": [
    {
     "name": "stdout",
     "output_type": "stream",
     "text": [
      "generating Bag of Words\n"
     ]
    }
   ],
   "source": [
    "dataset = ds.Dataset('biasbios', target_occ='professor', rep='BOW')\n",
    "dataset.split_train_test()"
   ]
  },
  {
   "cell_type": "code",
   "execution_count": 193,
   "id": "e620b60b",
   "metadata": {},
   "outputs": [
    {
     "name": "stdout",
     "output_type": "stream",
     "text": [
      "clf_acc 0.8437144482366326\n"
     ]
    },
    {
     "name": "stderr",
     "output_type": "stream",
     "text": [
      "/Users/jhs/opt/anaconda3/envs/ml/lib/python3.10/site-packages/sklearn/linear_model/_logistic.py:458: ConvergenceWarning: lbfgs failed to converge (status=1):\n",
      "STOP: TOTAL NO. of ITERATIONS REACHED LIMIT.\n",
      "\n",
      "Increase the number of iterations (max_iter) or scale the data as shown in:\n",
      "    https://scikit-learn.org/stable/modules/preprocessing.html\n",
      "Please also refer to the documentation for alternative solver options:\n",
      "    https://scikit-learn.org/stable/modules/linear_model.html#logistic-regression\n",
      "  n_iter_i = _check_optimize_result(\n"
     ]
    }
   ],
   "source": [
    "clf = LogisticRegression()\n",
    "clf.fit(dataset.x_train, dataset.y_train)\n",
    "\n",
    "p = clf.predict_proba(dataset.x_test)[:, 1]\n",
    "p_acc = accuracy_score(dataset.y_test, p > 0.5)\n",
    "print(\"clf_acc\", p_acc)"
   ]
  },
  {
   "cell_type": "code",
   "execution_count": 374,
   "id": "8f6d5904",
   "metadata": {},
   "outputs": [
    {
     "name": "stdout",
     "output_type": "stream",
     "text": [
      "acc: 0.8611111111111112 cov(p, pg) 0.0008009932706815287\n",
      "acc: 0.8 cov(p, pg) 0.005520166904314881\n",
      "acc: 0.9126984126984127 cov(p, pg) -0.0022459270547931106\n",
      "acc: 0.5827338129496403 cov(p, pg) -0.0020597151030327943\n",
      "acc: 0.5763888888888888 cov(p, pg) 0.006593440050694594\n",
      "acc: 0.4779874213836478 cov(p, pg) 0.0008282848706321825\n",
      "acc: 0.9615384615384616 cov(p, pg) 0.00376747583174959\n",
      "acc: 0.6086956521739131 cov(p, pg) 0.008082912428867077\n",
      "acc: 0.6166666666666667 cov(p, pg) 0.0004027359335583044\n"
     ]
    },
    {
     "name": "stderr",
     "output_type": "stream",
     "text": [
      "/Users/jhs/opt/anaconda3/envs/ml/lib/python3.10/site-packages/sklearn/linear_model/_logistic.py:458: ConvergenceWarning: lbfgs failed to converge (status=1):\n",
      "STOP: TOTAL NO. of ITERATIONS REACHED LIMIT.\n",
      "\n",
      "Increase the number of iterations (max_iter) or scale the data as shown in:\n",
      "    https://scikit-learn.org/stable/modules/preprocessing.html\n",
      "Please also refer to the documentation for alternative solver options:\n",
      "    https://scikit-learn.org/stable/modules/linear_model.html#logistic-regression\n",
      "  n_iter_i = _check_optimize_result(\n",
      "/Users/jhs/opt/anaconda3/envs/ml/lib/python3.10/site-packages/sklearn/linear_model/_logistic.py:458: ConvergenceWarning: lbfgs failed to converge (status=1):\n",
      "STOP: TOTAL NO. of ITERATIONS REACHED LIMIT.\n",
      "\n",
      "Increase the number of iterations (max_iter) or scale the data as shown in:\n",
      "    https://scikit-learn.org/stable/modules/preprocessing.html\n",
      "Please also refer to the documentation for alternative solver options:\n",
      "    https://scikit-learn.org/stable/modules/linear_model.html#logistic-regression\n",
      "  n_iter_i = _check_optimize_result(\n"
     ]
    },
    {
     "name": "stdout",
     "output_type": "stream",
     "text": [
      "acc: 0.6078020134228188 cov(p, pg) -0.004206159550848106\n",
      "acc: 0.5836177474402731 cov(p, pg) -0.009216123998453918\n",
      "acc: 0.9012345679012346 cov(p, pg) -0.0008780273073165373\n",
      "acc: 0.8560606060606061 cov(p, pg) -0.002130205753609064\n",
      "acc: 0.8785714285714286 cov(p, pg) -0.017029092082091947\n",
      "acc: 0.8571428571428571 cov(p, pg) 0.007233056678884219\n",
      "acc: 0.5915032679738562 cov(p, pg) -0.011320260973988616\n",
      "acc: 0.6516007532956686 cov(p, pg) 0.008150412073227047\n",
      "acc: 0.6973684210526315 cov(p, pg) -0.0002451888539406867\n",
      "acc: 0.6216216216216216 cov(p, pg) -0.003948444629187534\n",
      "acc: 0.6521739130434783 cov(p, pg) 0.02475774889762102\n",
      "acc: 0.9382716049382716 cov(p, pg) -0.005062327821004235\n",
      "acc: 0.7619047619047619 cov(p, pg) 0.013036543445574547\n",
      "acc: 0.9615384615384616 cov(p, pg) -0.001324074078429976\n",
      "acc: 0.9375 cov(p, pg) -0.0027688353712983123\n",
      "acc: 0.55 cov(p, pg) 0.008287662694276136\n",
      "acc: 0.8 cov(p, pg) 0.0012934965475926712\n",
      "acc: 0.6822995461422088 cov(p, pg) 0.014610993720287227\n",
      "acc: 0.8162162162162162 cov(p, pg) 0.0024431397907070745\n",
      "pg all 0.6525881683731513\n"
     ]
    },
    {
     "name": "stderr",
     "output_type": "stream",
     "text": [
      "/Users/jhs/opt/anaconda3/envs/ml/lib/python3.10/site-packages/sklearn/linear_model/_logistic.py:458: ConvergenceWarning: lbfgs failed to converge (status=1):\n",
      "STOP: TOTAL NO. of ITERATIONS REACHED LIMIT.\n",
      "\n",
      "Increase the number of iterations (max_iter) or scale the data as shown in:\n",
      "    https://scikit-learn.org/stable/modules/preprocessing.html\n",
      "Please also refer to the documentation for alternative solver options:\n",
      "    https://scikit-learn.org/stable/modules/linear_model.html#logistic-regression\n",
      "  n_iter_i = _check_optimize_result(\n"
     ]
    }
   ],
   "source": [
    "plot_df = [] \n",
    "pg_clf_dict = {} \n",
    "for i in range(len(dataset.class_map)): \n",
    "    p = clf.predict_proba(dataset.x_test)[:, 1]\n",
    "    pg_clf = LogisticRegression()\n",
    "    mask = dataset.y_all_train == i \n",
    "    pg_clf.fit(dataset.x_train[mask], dataset.g_train[mask])\n",
    "    pg = pg_clf.predict_proba(dataset.x_test)[:, 1]\n",
    "    mask = dataset.y_all_test == i \n",
    "    clf_acc = accuracy_score(dataset.g_test[mask], pg_clf.predict(dataset.x_test[mask]))\n",
    "    print(f\"acc: {clf_acc} cov(p, pg) {ut.emp_cov(p, pg)}\")\n",
    "    if clf_acc > 0.6: \n",
    "        plot_df.append({'cov(y, pg)': ut.emp_cov(dataset.y_test, pg), \n",
    "                        'cov(g, pg)': ut.emp_cov(dataset.g_test, pg),\n",
    "                        'corr(y, pg)': stats.pearsonr(dataset.y_test, pg)[0], \n",
    "                        'corr(g, pg)': stats.pearsonr(dataset.g_test, pg)[0],\n",
    "                        'corr(p, pg)': stats.pearsonr(p, pg)[0],\n",
    "                        'cov(p, pg)': ut.emp_cov(p, pg), \n",
    "                        'pg': dataset.reverse_class_map[i]})\n",
    "        pg_clf_dict[dataset.reverse_class_map[i]] = pg_clf\n",
    "    \n",
    "pg_all_clf = LogisticRegression()\n",
    "pg_all_clf.fit(dataset.x_train, dataset.g_train)\n",
    "pg_all_clf.predict_proba(dataset.x_test)[:, 1]\n",
    "plot_df.append({'cov(y, pg)': ut.emp_cov(dataset.y_test, pg), \n",
    "                'cov(g, pg)': ut.emp_cov(dataset.g_test, pg),\n",
    "                'corr(y, pg)': stats.pearsonr(dataset.y_test, pg)[0], \n",
    "                'corr(g, pg)': stats.pearsonr(dataset.g_test, pg)[0],\n",
    "                'corr(p, pg)': stats.pearsonr(p, pg)[0],\n",
    "                'cov(p, pg)': ut.emp_cov(p, pg),\n",
    "                'pg': \"all\"})\n",
    "pg_clf_dict['all'] = pg_all_clf\n",
    "print(f\"pg all {accuracy_score(dataset.g_test, pg_all_clf.predict(dataset.x_test))}\")\n",
    "plot_df = pd.DataFrame(plot_df)"
   ]
  },
  {
   "cell_type": "code",
   "execution_count": 379,
   "id": "7d1b1213",
   "metadata": {},
   "outputs": [],
   "source": [
    "plot_list = ['comedian', 'dj', 'personal_trainer', 'physician',\n",
    " 'professor', 'nurse', 'software_engineer', 'model', 'surgeon', 'photographer',\n",
    " 'accountant', 'chiropractor', 'filmmaker', 'dietitian', 'pastor', 'attorney', 'all']"
   ]
  },
  {
   "cell_type": "code",
   "execution_count": 435,
   "id": "11b53c6d",
   "metadata": {},
   "outputs": [],
   "source": [
    "def scatter_w_labels(plot_df, x_feat, y_feat): \n",
    "    sns.scatterplot(data=plot_df, x=x_feat, y=y_feat)\n",
    "    for row in plot_df.iterrows():\n",
    "        x = row[1][x_feat]\n",
    "        y = row[1][y_feat]\n",
    "\n",
    "        label = row[1]['pg']\n",
    "        plt.text(x, y +0.0005, label, fontsize=12, ha='center', va='bottom')"
   ]
  },
  {
   "cell_type": "code",
   "execution_count": 436,
   "id": "1d7a89df",
   "metadata": {},
   "outputs": [
    {
     "data": {
      "text/html": [
       "<div>\n",
       "<style scoped>\n",
       "    .dataframe tbody tr th:only-of-type {\n",
       "        vertical-align: middle;\n",
       "    }\n",
       "\n",
       "    .dataframe tbody tr th {\n",
       "        vertical-align: top;\n",
       "    }\n",
       "\n",
       "    .dataframe thead th {\n",
       "        text-align: right;\n",
       "    }\n",
       "</style>\n",
       "<table border=\"1\" class=\"dataframe\">\n",
       "  <thead>\n",
       "    <tr style=\"text-align: right;\">\n",
       "      <th></th>\n",
       "      <th>cov(y, pg)</th>\n",
       "      <th>cov(g, pg)</th>\n",
       "      <th>corr(y, pg)</th>\n",
       "      <th>corr(g, pg)</th>\n",
       "      <th>corr(p, pg)</th>\n",
       "      <th>cov(p, pg)</th>\n",
       "      <th>pg</th>\n",
       "    </tr>\n",
       "  </thead>\n",
       "  <tbody>\n",
       "    <tr>\n",
       "      <th>1</th>\n",
       "      <td>0.006060</td>\n",
       "      <td>0.007428</td>\n",
       "      <td>0.095755</td>\n",
       "      <td>0.112178</td>\n",
       "      <td>0.112195</td>\n",
       "      <td>0.005520</td>\n",
       "      <td>comedian</td>\n",
       "    </tr>\n",
       "    <tr>\n",
       "      <th>3</th>\n",
       "      <td>0.003442</td>\n",
       "      <td>0.001292</td>\n",
       "      <td>0.174623</td>\n",
       "      <td>0.062657</td>\n",
       "      <td>0.245802</td>\n",
       "      <td>0.003767</td>\n",
       "      <td>dj</td>\n",
       "    </tr>\n",
       "    <tr>\n",
       "      <th>4</th>\n",
       "      <td>0.008938</td>\n",
       "      <td>0.005422</td>\n",
       "      <td>0.126506</td>\n",
       "      <td>0.073351</td>\n",
       "      <td>0.147151</td>\n",
       "      <td>0.008083</td>\n",
       "      <td>personal_trainer</td>\n",
       "    </tr>\n",
       "    <tr>\n",
       "      <th>6</th>\n",
       "      <td>-0.005094</td>\n",
       "      <td>0.027846</td>\n",
       "      <td>-0.037290</td>\n",
       "      <td>0.194804</td>\n",
       "      <td>-0.039601</td>\n",
       "      <td>-0.004206</td>\n",
       "      <td>professor</td>\n",
       "    </tr>\n",
       "    <tr>\n",
       "      <th>7</th>\n",
       "      <td>-0.000690</td>\n",
       "      <td>-0.000009</td>\n",
       "      <td>-0.016964</td>\n",
       "      <td>-0.000207</td>\n",
       "      <td>-0.027771</td>\n",
       "      <td>-0.000878</td>\n",
       "      <td>nurse</td>\n",
       "    </tr>\n",
       "    <tr>\n",
       "      <th>8</th>\n",
       "      <td>-0.002209</td>\n",
       "      <td>0.005714</td>\n",
       "      <td>-0.039551</td>\n",
       "      <td>0.097761</td>\n",
       "      <td>-0.049051</td>\n",
       "      <td>-0.002130</td>\n",
       "      <td>software_engineer</td>\n",
       "    </tr>\n",
       "    <tr>\n",
       "      <th>9</th>\n",
       "      <td>-0.016344</td>\n",
       "      <td>0.003675</td>\n",
       "      <td>-0.182542</td>\n",
       "      <td>0.039228</td>\n",
       "      <td>-0.244631</td>\n",
       "      <td>-0.017029</td>\n",
       "      <td>model</td>\n",
       "    </tr>\n",
       "    <tr>\n",
       "      <th>11</th>\n",
       "      <td>0.006318</td>\n",
       "      <td>0.015821</td>\n",
       "      <td>0.047712</td>\n",
       "      <td>0.114189</td>\n",
       "      <td>0.079166</td>\n",
       "      <td>0.008150</td>\n",
       "      <td>photographer</td>\n",
       "    </tr>\n",
       "    <tr>\n",
       "      <th>12</th>\n",
       "      <td>0.000495</td>\n",
       "      <td>0.006126</td>\n",
       "      <td>0.005621</td>\n",
       "      <td>0.066500</td>\n",
       "      <td>-0.003582</td>\n",
       "      <td>-0.000245</td>\n",
       "      <td>accountant</td>\n",
       "    </tr>\n",
       "    <tr>\n",
       "      <th>13</th>\n",
       "      <td>-0.003620</td>\n",
       "      <td>0.002492</td>\n",
       "      <td>-0.070072</td>\n",
       "      <td>0.046104</td>\n",
       "      <td>-0.098292</td>\n",
       "      <td>-0.003948</td>\n",
       "      <td>chiropractor</td>\n",
       "    </tr>\n",
       "    <tr>\n",
       "      <th>14</th>\n",
       "      <td>0.025936</td>\n",
       "      <td>0.012115</td>\n",
       "      <td>0.248907</td>\n",
       "      <td>0.111117</td>\n",
       "      <td>0.305592</td>\n",
       "      <td>0.024758</td>\n",
       "      <td>filmmaker</td>\n",
       "    </tr>\n",
       "    <tr>\n",
       "      <th>15</th>\n",
       "      <td>-0.005355</td>\n",
       "      <td>0.000130</td>\n",
       "      <td>-0.195229</td>\n",
       "      <td>0.004528</td>\n",
       "      <td>-0.237395</td>\n",
       "      <td>-0.005062</td>\n",
       "      <td>dietitian</td>\n",
       "    </tr>\n",
       "    <tr>\n",
       "      <th>16</th>\n",
       "      <td>0.011706</td>\n",
       "      <td>0.006812</td>\n",
       "      <td>0.150559</td>\n",
       "      <td>0.083728</td>\n",
       "      <td>0.215653</td>\n",
       "      <td>0.013037</td>\n",
       "      <td>pastor</td>\n",
       "    </tr>\n",
       "    <tr>\n",
       "      <th>20</th>\n",
       "      <td>0.014978</td>\n",
       "      <td>0.022077</td>\n",
       "      <td>0.117287</td>\n",
       "      <td>0.165213</td>\n",
       "      <td>0.147152</td>\n",
       "      <td>0.014611</td>\n",
       "      <td>attorney</td>\n",
       "    </tr>\n",
       "    <tr>\n",
       "      <th>22</th>\n",
       "      <td>0.002236</td>\n",
       "      <td>0.010129</td>\n",
       "      <td>0.027442</td>\n",
       "      <td>0.118825</td>\n",
       "      <td>0.038570</td>\n",
       "      <td>0.002443</td>\n",
       "      <td>all</td>\n",
       "    </tr>\n",
       "  </tbody>\n",
       "</table>\n",
       "</div>"
      ],
      "text/plain": [
       "    cov(y, pg)  cov(g, pg)  corr(y, pg)  corr(g, pg)  corr(p, pg)  cov(p, pg)  \\\n",
       "1     0.006060    0.007428     0.095755     0.112178     0.112195    0.005520   \n",
       "3     0.003442    0.001292     0.174623     0.062657     0.245802    0.003767   \n",
       "4     0.008938    0.005422     0.126506     0.073351     0.147151    0.008083   \n",
       "6    -0.005094    0.027846    -0.037290     0.194804    -0.039601   -0.004206   \n",
       "7    -0.000690   -0.000009    -0.016964    -0.000207    -0.027771   -0.000878   \n",
       "8    -0.002209    0.005714    -0.039551     0.097761    -0.049051   -0.002130   \n",
       "9    -0.016344    0.003675    -0.182542     0.039228    -0.244631   -0.017029   \n",
       "11    0.006318    0.015821     0.047712     0.114189     0.079166    0.008150   \n",
       "12    0.000495    0.006126     0.005621     0.066500    -0.003582   -0.000245   \n",
       "13   -0.003620    0.002492    -0.070072     0.046104    -0.098292   -0.003948   \n",
       "14    0.025936    0.012115     0.248907     0.111117     0.305592    0.024758   \n",
       "15   -0.005355    0.000130    -0.195229     0.004528    -0.237395   -0.005062   \n",
       "16    0.011706    0.006812     0.150559     0.083728     0.215653    0.013037   \n",
       "20    0.014978    0.022077     0.117287     0.165213     0.147152    0.014611   \n",
       "22    0.002236    0.010129     0.027442     0.118825     0.038570    0.002443   \n",
       "\n",
       "                   pg  \n",
       "1            comedian  \n",
       "3                  dj  \n",
       "4    personal_trainer  \n",
       "6           professor  \n",
       "7               nurse  \n",
       "8   software_engineer  \n",
       "9               model  \n",
       "11       photographer  \n",
       "12         accountant  \n",
       "13       chiropractor  \n",
       "14          filmmaker  \n",
       "15          dietitian  \n",
       "16             pastor  \n",
       "20           attorney  \n",
       "22                all  "
      ]
     },
     "execution_count": 436,
     "metadata": {},
     "output_type": "execute_result"
    }
   ],
   "source": [
    "plot_df[plot_df['pg'].isin(plot_list)]"
   ]
  },
  {
   "cell_type": "code",
   "execution_count": 440,
   "id": "5e519495",
   "metadata": {},
   "outputs": [
    {
     "data": {
      "image/png": "[encoded data removed]",
      "text/plain": [
       "<Figure size 640x480 with 1 Axes>"
      ]
     },
     "metadata": {},
     "output_type": "display_data"
    }
   ],
   "source": [
    "\n",
    "scatter_w_labels(plot_df[plot_df['pg'].isin(plot_list)], \n",
    "                 x_feat='cov(g, pg)',y_feat='cov(y, pg)')\n",
    "plt.title(r\"Cov(g, $p_g$) vs Cov(y, $p_g$) of Gender Stereotype Predictors ($p_g$)\")\n",
    "plt.ylabel(r\"Cov(y, $p_g$)\", fontsize=12)\n",
    "plt.xlabel(r\"Cov(g, $p_g$)\", fontsize=12)\n",
    "plt.xlim(-0.002, 0.03)\n",
    "plt.ylim(-0.02, 0.03)\n",
    "plt.tight_layout()\n",
    "plt.savefig(\"bio-pgs.pdf\")"
   ]
  },
  {
   "cell_type": "code",
   "execution_count": 443,
   "id": "c96784a9",
   "metadata": {},
   "outputs": [
    {
     "data": {
      "image/png": "[encoded data removed]",
      "text/plain": [
       "<Figure size 640x480 with 1 Axes>"
      ]
     },
     "metadata": {},
     "output_type": "display_data"
    }
   ],
   "source": [
    "plot_list = ['comedian', 'dj', 'personal_trainer', \n",
    " 'professor', 'nurse', 'software_engineer', 'model', 'photographer',\n",
    " 'accountant', 'chiropractor', 'filmmaker', 'dietitian', 'pastor', 'attorney', 'all']\n",
    "\n",
    "df = plot_df[plot_df['pg'].isin(plot_list)]\n",
    "df = df.sort_values(by='cov(p, pg)')\n",
    "x_feat='cov(p, pg)'\n",
    "y_feat='cov(y, pg)'\n",
    "\n",
    "sns.scatterplot(data=df, x=x_feat, y=y_feat)\n",
    "for i, row in enumerate(df.iterrows()):\n",
    "    x = row[1][x_feat]\n",
    "    y = row[1][y_feat]\n",
    "\n",
    "    label = row[1]['pg']\n",
    "    if label == \"model\": \n",
    "        plt.text(x+0.001, y, label, fontsize=12, ha='left', va='bottom')\n",
    "    elif label == \"filmmaker\": \n",
    "        plt.text(x, y, label, fontsize=12, ha='right', va='bottom')\n",
    "    elif label == \"comedian\": \n",
    "        plt.text(x-0.001, y+0.001, label, fontsize=12, ha='left', va='bottom')\n",
    "    elif i % 2 == 0: \n",
    "        plt.text(x-0.001, y, label, fontsize=12, ha='right', va='bottom')\n",
    "    else: \n",
    "        plt.text(x+0.002, y, label, fontsize=12, ha='left', va='bottom')\n",
    "        \n",
    "        \n",
    "# scatter_w_labels(plot_df[plot_df['pg'].isin(plot_list)], x_feat='cov(p, pg)',y_feat='cov(y, pg)')\n",
    "\n",
    "\n",
    "x = np.linspace(np.min(plot_df['cov(p, pg)']), np.max(plot_df['cov(p, pg)'])+0.001, 10)\n",
    "y = x\n",
    "plt.plot(x, y, linestyle=\":\")\n",
    "plt.title(r\"Cov(y, $p_g$) vs Cov(p, $p_g$) of Gender Stereotype Predictors ($p_g$)\")\n",
    "plt.ylabel(r\"Cov(y, $p_g$)\", fontsize=12)\n",
    "plt.xlabel(r\"Cov(p, $p_g$)\", fontsize=12)\n",
    "plt.ylim(-0.02, 0.03)\n",
    "\n",
    "plt.tight_layout()\n",
    "plt.savefig(\"bio-amplification.pdf\")"
   ]
  },
  {
   "cell_type": "code",
   "execution_count": 447,
   "id": "7a62ced9",
   "metadata": {},
   "outputs": [
    {
     "data": {
      "text/plain": [
       "{'accuracy': 0.8437144482366326,\n",
       " 'cov(p, pg1)': 0.02475774889762102,\n",
       " 'cov(p, pg2)': 0.014610993720287227,\n",
       " 'DP': 0.009696455348629285,\n",
       " 'cov(p, pg1 |y=1)': 0.02227618209899451,\n",
       " 'cov(p, pg2 |y=1)': 0.011172884841591627,\n",
       " 'EO': 0.020087559133240562}"
      ]
     },
     "execution_count": 447,
     "metadata": {},
     "output_type": "execute_result"
    }
   ],
   "source": [
    "# demographic parity\n",
    "# base classifier\n",
    "results = ut.results_summary(clf=clf, \n",
    "                            pg1=pg_clf_dict['filmmaker'], \n",
    "                            pg2=pg_clf_dict['attorney'], \n",
    "                            x=dataset.x_test, \n",
    "                            y=dataset.y_test, \n",
    "                            g=dataset.g_test)\n",
    "results"
   ]
  },
  {
   "cell_type": "code",
   "execution_count": 200,
   "id": "426b7c4c",
   "metadata": {},
   "outputs": [
    {
     "name": "stderr",
     "output_type": "stream",
     "text": [
      "/Users/jhs/opt/anaconda3/envs/ml/lib/python3.10/site-packages/sklearn/linear_model/_logistic.py:458: ConvergenceWarning: lbfgs failed to converge (status=1):\n",
      "STOP: TOTAL NO. of ITERATIONS REACHED LIMIT.\n",
      "\n",
      "Increase the number of iterations (max_iter) or scale the data as shown in:\n",
      "    https://scikit-learn.org/stable/modules/preprocessing.html\n",
      "Please also refer to the documentation for alternative solver options:\n",
      "    https://scikit-learn.org/stable/modules/linear_model.html#logistic-regression\n",
      "  n_iter_i = _check_optimize_result(\n"
     ]
    },
    {
     "name": "stdout",
     "output_type": "stream",
     "text": [
      "acc: 0.9744621198269031\n"
     ]
    },
    {
     "name": "stderr",
     "output_type": "stream",
     "text": [
      "/Users/jhs/opt/anaconda3/envs/ml/lib/python3.10/site-packages/sklearn/linear_model/_logistic.py:458: ConvergenceWarning: lbfgs failed to converge (status=1):\n",
      "STOP: TOTAL NO. of ITERATIONS REACHED LIMIT.\n",
      "\n",
      "Increase the number of iterations (max_iter) or scale the data as shown in:\n",
      "    https://scikit-learn.org/stable/modules/preprocessing.html\n",
      "Please also refer to the documentation for alternative solver options:\n",
      "    https://scikit-learn.org/stable/modules/linear_model.html#logistic-regression\n",
      "  n_iter_i = _check_optimize_result(\n"
     ]
    },
    {
     "data": {
      "text/plain": [
       "{'accuracy': 0.8449943117178612,\n",
       " 'cov(p, pg1)': 0.027936585203455558,\n",
       " 'cov(p, pg2)': 0.015896658820360524,\n",
       " 'DP': 0.002271045749306644}"
      ]
     },
     "execution_count": 200,
     "metadata": {},
     "output_type": "execute_result"
    }
   ],
   "source": [
    "postprocess_est = ThresholdOptimizer(\n",
    "    estimator=clf, \n",
    "    constraints=\"demographic_parity\", \n",
    "    objective='accuracy_score', \n",
    "    predict_method=\"predict\", \n",
    "    flip =True\n",
    ")\n",
    "\n",
    "postprocess_est.fit(X=dataset.x_train.toarray(), \n",
    "                    y=dataset.y_train, \n",
    "                    sensitive_features=dataset.g_train)\n",
    "\n",
    "p_train = postprocess_est.predict(dataset.x_train.toarray(), sensitive_features=dataset.g_train)\n",
    "\n",
    "p_clf = LogisticRegression()\n",
    "p_clf.fit(dataset.x_train, p_train)\n",
    "print(f\"acc: {accuracy_score(p_train, p_clf.predict(dataset.x_train))}\")\n",
    "\n",
    "results = ut.results_summary(clf=p_clf, \n",
    "                            pg1=pg_clf_dict['filmmaker'], \n",
    "                            pg2=pg_clf_dict['attorney'], \n",
    "                            x=dataset.x_test, \n",
    "                            y=dataset.y_test, \n",
    "                            g=dataset.g_test)\n",
    "results"
   ]
  },
  {
   "cell_type": "code",
   "execution_count": 202,
   "id": "e18e058f",
   "metadata": {},
   "outputs": [
    {
     "name": "stdout",
     "output_type": "stream",
     "text": [
      "0 0.024813981862111815 0.0001\n",
      "1 0.023782657032903217 0.0001\n",
      "2 0.022860703700949964 0.0001\n",
      "3 0.0220084299432784 0.0001\n",
      "4 0.021209522550781516 0.0001\n",
      "5 0.02045532745624192 0.0001\n",
      "6 0.019738328015746088 0.0001\n",
      "7 0.019054868113290987 0.0001\n",
      "8 0.018405363466585518 0.0001\n",
      "9 0.017787167583643845 0.0001\n",
      "10 0.017195210610156553 0.0001\n",
      "11 0.016628179433933292 0.0001\n",
      "12 0.016083874763414153 0.0001\n",
      "13 0.015561523727468033 0.0001\n",
      "14 0.01505897104211896 0.0001\n",
      "15 0.014575316633221723 0.0001\n",
      "16 0.014109966743817162 0.0001\n",
      "17 0.013661688693021557 0.0001\n",
      "18 0.013229159261780133 0.0001\n",
      "19 0.012811652254488031 0.0001\n",
      "20 0.012408633451749192 0.0001\n",
      "21 0.012019831917765213 0.0001\n",
      "22 0.011644550856716191 0.0001\n",
      "23 0.01128204663761914 0.0001\n",
      "24 0.010932162724651744 0.0001\n",
      "25 0.010594032161807638 0.0001\n",
      "26 0.010267277675388025 0.0001\n",
      "27 0.009951501935235366 0.0001\n",
      "28 0.009646772525118655 0.0001\n",
      "29 0.009351796933303189 0.0001\n",
      "30 0.009066241154187155 0.0001\n",
      "31 0.00879016825521324 0.0001\n",
      "32 0.008523346027188622 0.0001\n",
      "33 0.00826544004334602 0.0001\n",
      "34 0.00801586521055234 0.0001\n",
      "35 0.007774370179973135 0.0001\n",
      "36 0.0075408771754926045 0.0001\n",
      "37 0.007315011379036206 0.0001\n",
      "38 0.007096519309864921 0.0001\n",
      "39 0.006885076866893937 0.0001\n",
      "40 0.006680219784209272 0.0001\n",
      "41 0.006481602606041055 0.0001\n",
      "42 0.006289226393271658 0.0001\n",
      "43 0.006102821312535125 0.0001\n",
      "44 0.0059222631832881205 0.0001\n",
      "45 0.005747253097054547 0.0001\n",
      "46 0.005577612273165364 0.0001\n",
      "47 0.005413006428340362 0.0001\n",
      "48 0.005253422032754261 0.0001\n",
      "49 0.005098779633133927 0.0001\n"
     ]
    },
    {
     "name": "stderr",
     "output_type": "stream",
     "text": [
      "/Users/jhs/opt/anaconda3/envs/ml/lib/python3.10/site-packages/sklearn/linear_model/_logistic.py:458: ConvergenceWarning: lbfgs failed to converge (status=1):\n",
      "STOP: TOTAL NO. of ITERATIONS REACHED LIMIT.\n",
      "\n",
      "Increase the number of iterations (max_iter) or scale the data as shown in:\n",
      "    https://scikit-learn.org/stable/modules/preprocessing.html\n",
      "Please also refer to the documentation for alternative solver options:\n",
      "    https://scikit-learn.org/stable/modules/linear_model.html#logistic-regression\n",
      "  n_iter_i = _check_optimize_result(\n"
     ]
    },
    {
     "name": "stdout",
     "output_type": "stream",
     "text": [
      "acc: 0.9650454074480405\n",
      "filmmaker {'accuracy': 0.8084470989761092, 'cov(p, pg1)': 0.005227389938556817, 'cov(p, pg2)': 0.0059263108688356455, 'DP': 0.016836005966440748}\n",
      "0 0.014286406780881594 0.0001\n",
      "1 0.013406035365896664 0.0001\n",
      "2 0.012652575650816716 0.0001\n",
      "3 0.011976440244443292 0.0001\n",
      "4 0.011359522705579099 0.0001\n",
      "5 0.010791766525755012 0.0001\n",
      "6 0.010265324150126503 0.0001\n",
      "7 0.009773419513493857 0.0001\n",
      "8 0.009313087030272733 0.0001\n",
      "9 0.008881797399396322 0.0001\n",
      "10 0.008475621196597075 0.0001\n",
      "11 0.008093310602078395 0.0001\n",
      "12 0.007731372169562814 0.0001\n",
      "13 0.00738887266148343 0.0001\n",
      "14 0.007064132418251602 0.0001\n",
      "15 0.00675645919059531 0.0001\n",
      "16 0.006465158861274178 0.0001\n",
      "17 0.0061884587317376 0.0001\n",
      "18 0.005925138746338378 0.0001\n",
      "19 0.0056752338511385295 0.0001\n",
      "20 0.005437612907968421 0.0001\n",
      "21 0.005211415870038197 0.0001\n",
      "22 0.004995843632462548 0.0001\n",
      "23 0.004790419260749449 0.0001\n",
      "24 0.004594455452410749 0.0001\n",
      "25 0.004407215208854253 0.0001\n",
      "26 0.004228201555570832 0.0001\n",
      "27 0.004057009550402076 0.0001\n",
      "28 0.0038931155240851086 0.0001\n",
      "29 0.0037364250403544197 0.0001\n",
      "30 0.003586679669056868 0.0001\n",
      "31 0.003443528420170824 0.0001\n",
      "32 0.003306708596460074 0.0001\n",
      "33 0.0031757413247763583 0.0001\n",
      "34 0.0030503560447294785 0.0001\n",
      "35 0.0029301978250591107 0.0001\n",
      "36 0.0028150192876177957 0.0001\n",
      "37 0.0027046048391996284 0.0001\n",
      "38 0.0025988287038431618 0.0001\n",
      "39 0.0024974386626118545 0.0001\n",
      "40 0.0024001899371126397 0.0001\n",
      "41 0.002306931006079134 0.0001\n",
      "42 0.002217512735547721 0.0001\n",
      "43 0.002131708603920089 0.0001\n",
      "44 0.002049328682508165 0.0001\n",
      "45 0.001970246681385016 0.0001\n",
      "46 0.0018943078541284032 0.0001\n",
      "47 0.001821380352038626 0.0001\n",
      "48 0.0017513190015966225 0.0001\n",
      "49 0.0016840058791324788 0.0001\n",
      "acc: 0.9866520387639423\n",
      "attorney {'accuracy': 0.8421501706484642, 'cov(p, pg1)': 0.020116868319406764, 'cov(p, pg2)': 0.002296309990711162, 'DP': 0.0021108064586325415}\n"
     ]
    },
    {
     "name": "stderr",
     "output_type": "stream",
     "text": [
      "/Users/jhs/opt/anaconda3/envs/ml/lib/python3.10/site-packages/sklearn/linear_model/_logistic.py:458: ConvergenceWarning: lbfgs failed to converge (status=1):\n",
      "STOP: TOTAL NO. of ITERATIONS REACHED LIMIT.\n",
      "\n",
      "Increase the number of iterations (max_iter) or scale the data as shown in:\n",
      "    https://scikit-learn.org/stable/modules/preprocessing.html\n",
      "Please also refer to the documentation for alternative solver options:\n",
      "    https://scikit-learn.org/stable/modules/linear_model.html#logistic-regression\n",
      "  n_iter_i = _check_optimize_result(\n"
     ]
    }
   ],
   "source": [
    "for name in ['filmmaker', 'attorney']: \n",
    "    c_post_processed = md.MACov(base_clf=clf, pg_clf=pg_clf_dict[name])\n",
    "    md.fit_pg_cont(p_x=dataset.x_train, \n",
    "                   base_clf=c_post_processed, \n",
    "                   pg_clf=pg_clf_dict[name], \n",
    "                   alpha=1e-4)\n",
    "    p_train = c_post_processed.predict_proba_1d(dataset.x_train)\n",
    "\n",
    "    p_clf = LogisticRegression()\n",
    "    p_clf.fit(dataset.x_train, p_train>0.5)\n",
    "    print(f\"acc: {accuracy_score(p_train>0.5, p_clf.predict(dataset.x_train))}\")\n",
    "    \n",
    "    results = ut.results_summary(clf=c_post_processed, \n",
    "                            pg1=pg_clf_dict['filmmaker'], \n",
    "                            pg2=pg_clf_dict['attorney'], \n",
    "                                x=dataset.x_test, \n",
    "                                y=dataset.y_test, \n",
    "                                g=dataset.g_test)\n",
    "    print(name, results)"
   ]
  },
  {
   "cell_type": "code",
   "execution_count": 301,
   "id": "9ee407e0",
   "metadata": {},
   "outputs": [
    {
     "name": "stderr",
     "output_type": "stream",
     "text": [
      "100%|████████████████████████████████████████████████████████████████████████████████| 50/50 [00:13<00:00,  2.02it/s]\n"
     ]
    },
    {
     "name": "stdout",
     "output_type": "stream",
     "text": [
      "acc: 0.9243920277930152\n",
      "attorney {'accuracy': 0.7967861205915814, 'cov(p, pg1)': 0.0053000227268898545, 'cov(p, pg2)': -0.001201037073445537, 'DP': 0.030939041808607015}\n"
     ]
    }
   ],
   "source": [
    "clf_list = [pg_clf_dict[\"attorney\"], pg_clf_dict[\"filmmaker\"]]\n",
    "c_post_processed = md.DPMulti(base_clf=clf, pg_clf_list=clf_list)\n",
    "md.fit_dp_pg_multi(x=dataset.x_train, \n",
    "               multi_clf=c_post_processed, \n",
    "               alpha=1e-4)\n",
    "p_train = c_post_processed.predict_proba_1d(dataset.x_train)\n",
    "\n",
    "print(f\"acc: {accuracy_score(p_train>0.5, p_clf.predict(dataset.x_train))}\")\n",
    "\n",
    "results = ut.results_summary(clf=c_post_processed, \n",
    "                        pg1=pg_clf_dict['filmmaker'], \n",
    "                        pg2=pg_clf_dict['attorney'], \n",
    "                            x=dataset.x_test, \n",
    "                            y=dataset.y_test, \n",
    "                            g=dataset.g_test)\n",
    "print(name, results)"
   ]
  },
  {
   "cell_type": "code",
   "execution_count": 448,
   "id": "7421584e",
   "metadata": {},
   "outputs": [
    {
     "name": "stderr",
     "output_type": "stream",
     "text": [
      "/Users/jhs/opt/anaconda3/envs/ml/lib/python3.10/site-packages/sklearn/linear_model/_logistic.py:458: ConvergenceWarning: lbfgs failed to converge (status=1):\n",
      "STOP: TOTAL NO. of ITERATIONS REACHED LIMIT.\n",
      "\n",
      "Increase the number of iterations (max_iter) or scale the data as shown in:\n",
      "    https://scikit-learn.org/stable/modules/preprocessing.html\n",
      "Please also refer to the documentation for alternative solver options:\n",
      "    https://scikit-learn.org/stable/modules/linear_model.html#logistic-regression\n",
      "  n_iter_i = _check_optimize_result(\n"
     ]
    },
    {
     "name": "stdout",
     "output_type": "stream",
     "text": [
      "acc: 0.9813189492289877\n"
     ]
    },
    {
     "name": "stderr",
     "output_type": "stream",
     "text": [
      "/Users/jhs/opt/anaconda3/envs/ml/lib/python3.10/site-packages/sklearn/linear_model/_logistic.py:458: ConvergenceWarning: lbfgs failed to converge (status=1):\n",
      "STOP: TOTAL NO. of ITERATIONS REACHED LIMIT.\n",
      "\n",
      "Increase the number of iterations (max_iter) or scale the data as shown in:\n",
      "    https://scikit-learn.org/stable/modules/preprocessing.html\n",
      "Please also refer to the documentation for alternative solver options:\n",
      "    https://scikit-learn.org/stable/modules/linear_model.html#logistic-regression\n",
      "  n_iter_i = _check_optimize_result(\n"
     ]
    },
    {
     "data": {
      "text/plain": [
       "{'accuracy': 0.8479806598407281,\n",
       " 'cov(p, pg1)': 0.028198775661911764,\n",
       " 'cov(p, pg2)': 0.01628002309224758,\n",
       " 'DP': 0.0035776883602970377,\n",
       " 'cov(p, pg1 |y=1)': 0.026691578640138505,\n",
       " 'cov(p, pg2 |y=1)': 0.014014162292839192,\n",
       " 'EO': 0.006048992682855192}"
      ]
     },
     "execution_count": 448,
     "metadata": {},
     "output_type": "execute_result"
    }
   ],
   "source": [
    "# Equal Opportunity wrt Groups\n",
    "\n",
    "postprocess_est = ThresholdOptimizer(\n",
    "    estimator=clf, \n",
    "    constraints=\"true_positive_rate_parity\", \n",
    "    objective='accuracy_score', \n",
    "    predict_method=\"predict\", \n",
    "    flip =True\n",
    ")\n",
    "\n",
    "postprocess_est.fit(X=dataset.x_train.toarray(), \n",
    "                    y=dataset.y_train, \n",
    "                    sensitive_features=dataset.g_train)\n",
    "\n",
    "p_train = postprocess_est.predict(dataset.x_train.toarray(), sensitive_features=dataset.g_train)\n",
    "\n",
    "p_clf = LogisticRegression()\n",
    "p_clf.fit(dataset.x_train, p_train)\n",
    "print(f\"acc: {accuracy_score(p_train, p_clf.predict(dataset.x_train))}\")\n",
    "\n",
    "results = ut.results_summary(clf=p_clf, \n",
    "                            pg1=pg_clf_dict['filmmaker'], \n",
    "                            pg2=pg_clf_dict['attorney'], \n",
    "                            x=dataset.x_test, \n",
    "                            y=dataset.y_test, \n",
    "                            g=dataset.g_test)\n",
    "results\n"
   ]
  },
  {
   "cell_type": "code",
   "execution_count": 450,
   "id": "aab582b2",
   "metadata": {},
   "outputs": [
    {
     "name": "stdout",
     "output_type": "stream",
     "text": [
      "0.7220273164929993\n",
      "prev cov 0.01\n",
      "new cov 0.00\n"
     ]
    },
    {
     "data": {
      "text/plain": [
       "{'accuracy': 0.842292377701934,\n",
       " 'cov(p, pg1)': 0.013801228408200203,\n",
       " 'cov(p, pg2)': 0.009578863684665664,\n",
       " 'DP': 0.0009564900869248327,\n",
       " 'cov(p, pg1 |y=1)': 0.0033421856396477784,\n",
       " 'cov(p, pg2 |y=1)': 0.00313947161921859,\n",
       " 'EO': 0.008036170653567876}"
      ]
     },
     "execution_count": 450,
     "metadata": {},
     "output_type": "execute_result"
    }
   ],
   "source": [
    "# Equal Opportunity: \n",
    "\n",
    "eo_clf = md.EOClf(base_clf=clf, pg_clf=pg_clf_dict[\"filmmaker\"])\n",
    "eo_clf.fit_exact(x=dataset.x_train, y=dataset.y_train)\n",
    "\n",
    "\n",
    "\n",
    "p = clf.predict_proba(dataset.x_train)[:, 1]\n",
    "pg = pg_clf_dict[\"attorney\"].predict_proba(dataset.x_train)[:, 1]\n",
    "\n",
    "eo_clf.check_bins(y=dataset.y_train, p=p, pg=pg, a=0.5, b=1.0)\n",
    "\n",
    "\n",
    "print(f\"prev cov {ut.eo_metric(y_pred=p, y_true=dataset.y_train, pg=pg):.2f}\")\n",
    "\n",
    "p = eo_clf.predict_proba_1d(dataset.x_train)\n",
    "print(f\"new cov {ut.eo_metric(y_pred=p, y_true=dataset.y_train, pg=pg):.2f}\")\n",
    "\n",
    "results = ut.results_summary(clf=eo_clf, \n",
    "                        pg1=pg_clf_dict['filmmaker'], \n",
    "                        pg2=pg_clf_dict['attorney'], \n",
    "                            x=dataset.x_test, \n",
    "                            y=dataset.y_test, \n",
    "                            g=dataset.g_test)\n",
    "results\n"
   ]
  },
  {
   "cell_type": "code",
   "execution_count": 292,
   "id": "d5ea14f7",
   "metadata": {},
   "outputs": [
    {
     "name": "stderr",
     "output_type": "stream",
     "text": [
      "100%|████████████████████████████████████████████████████████████████████████████████| 20/20 [01:51<00:00,  9.57s/it]\n"
     ]
    }
   ],
   "source": [
    "c_post_processed = md.DPMulti(base_clf=clf, pg_clf_list=list(pg_clf_dict.values()))\n",
    "md.fit_ma_pg_multi(p_x=dataset.x_train, \n",
    "                   y=dataset.y_train, \n",
    "                   multi_clf=c_post_processed, \n",
    "                   alpha=1e-4, \n",
    "                  max_iter=20)"
   ]
  },
  {
   "cell_type": "code",
   "execution_count": 293,
   "id": "d6313cd8",
   "metadata": {},
   "outputs": [],
   "source": [
    "new_plot_df = [] \n",
    "for key, pg_clf in pg_clf_dict.items(): \n",
    "    pg = pg_clf.predict_proba(dataset.x_test)[:, 1]\n",
    "    p = c_post_processed.predict_proba_1d(dataset.x_test)\n",
    "    new_plot_df.append({'cov(y, pg)': ut.emp_cov(dataset.y_test, pg), \n",
    "                'cov(g, pg)': ut.emp_cov(dataset.g_test, pg),\n",
    "                'corr(y, pg)': stats.pearsonr(dataset.y_test, pg)[0], \n",
    "                'corr(g, pg)': stats.pearsonr(dataset.g_test, pg)[0],\n",
    "                'corr(p, pg)': stats.pearsonr(p, pg)[0],\n",
    "                'cov(p, pg)': ut.emp_cov(p, pg), \n",
    "                'pg': key})\n",
    "new_plot_df = pd.DataFrame(new_plot_df)\n"
   ]
  },
  {
   "cell_type": "code",
   "execution_count": 296,
   "id": "742e8ab1",
   "metadata": {},
   "outputs": [
    {
     "name": "stdout",
     "output_type": "stream",
     "text": [
      "0.8434300341296929\n",
      "0.8437144482366326\n"
     ]
    }
   ],
   "source": [
    "print(accuracy_score(c_post_processed.predict(dataset.x_test), dataset.y_test))\n",
    "print(accuracy_score(clf.predict(dataset.x_test), dataset.y_test))"
   ]
  },
  {
   "cell_type": "code",
   "execution_count": 294,
   "id": "2d848b85",
   "metadata": {},
   "outputs": [
    {
     "data": {
      "text/plain": [
       "Text(0.5, 1.0, 'Multi-Accuracy')"
      ]
     },
     "execution_count": 294,
     "metadata": {},
     "output_type": "execute_result"
    },
    {
     "data": {
      "image/png": "[encoded data removed]",
      "text/plain": [
       "<Figure size 1000x400 with 2 Axes>"
      ]
     },
     "metadata": {},
     "output_type": "display_data"
    }
   ],
   "source": [
    "fig, axes = plt.subplots(1, 2, figsize=(10, 4), sharex=True, sharey=True)\n",
    "sns.scatterplot(plot_df, x='cov(p, pg)', y='cov(y, pg)', ax=axes[0])\n",
    "x = np.linspace(np.min(plot_df['cov(p, pg)']), np.max(plot_df['cov(p, pg)']), 10)\n",
    "y = x\n",
    "axes[0].plot(x, y, linestyle=\":\")\n",
    "axes[0].set_title(\"No Multi-Accuracy\")\n",
    "\n",
    "sns.scatterplot(new_plot_df, x='cov(p, pg)', y='cov(y, pg)', ax=axes[1])\n",
    "x = np.linspace(np.min(new_plot_df['cov(p, pg)']), np.max(new_plot_df['cov(p, pg)']), 10)\n",
    "y = x\n",
    "axes[1].plot(x, y, linestyle=\":\")\n",
    "axes[1].set_title(\"Multi-Accuracy\")"
   ]
  },
  {
   "cell_type": "code",
   "execution_count": null,
   "id": "cb1c0461",
   "metadata": {},
   "outputs": [],
   "source": []
  }
 ],
 "metadata": {
  "kernelspec": {
   "display_name": "Python 3 (ipykernel)",
   "language": "python",
   "name": "python3"
  },
  "language_info": {
   "codemirror_mode": {
    "name": "ipython",
    "version": 3
   },
   "file_extension": ".py",
   "mimetype": "text/x-python",
   "name": "python",
   "nbconvert_exporter": "python",
   "pygments_lexer": "ipython3",
   "version": "3.10.6"
  }
 },
 "nbformat": 4,
 "nbformat_minor": 5
}
