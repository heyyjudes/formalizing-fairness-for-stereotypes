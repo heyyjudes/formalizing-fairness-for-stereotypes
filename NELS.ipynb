{
 "cells": [
  {
   "cell_type": "code",
   "execution_count": 22,
   "id": "c9f9f93e",
   "metadata": {},
   "outputs": [
    {
     "name": "stdout",
     "output_type": "stream",
     "text": [
      "The autoreload extension is already loaded. To reload it, use:\n",
      "  %reload_ext autoreload\n"
     ]
    }
   ],
   "source": [
    "import datasets as ds\n",
    "import utils as ut\n",
    "import models as md\n",
    "\n",
    "# sklearn\n",
    "from sklearn.linear_model import LogisticRegression\n",
    "from sklearn.metrics import accuracy_score\n",
    "from sklearn.decomposition import PCA\n",
    "\n",
    "# libs\n",
    "import numpy as np\n",
    "import pandas as pd\n",
    "import seaborn as sns\n",
    "import matplotlib.pyplot as plt\n",
    "import scipy.stats as stats\n",
    "\n",
    "from sklearn.model_selection import ShuffleSplit\n",
    "\n",
    "sns.set_theme()\n",
    "\n",
    "%load_ext autoreload\n",
    "%autoreload 2"
   ]
  },
  {
   "cell_type": "markdown",
   "id": "0f66f506-211f-4c34-9e46-59cdf6c3559b",
   "metadata": {},
   "source": [
    "## Section 1: Auditing with repsect to stereotypes "
   ]
  },
  {
   "cell_type": "code",
   "execution_count": 10,
   "id": "364187f7-25c1-498d-80eb-d9264de80b55",
   "metadata": {},
   "outputs": [
    {
     "name": "stdout",
     "output_type": "stream",
     "text": [
      "total students 12144\n",
      "Limiting entries to two racial groups 3 n=1041 and 4 n=7908\n",
      "remaining students 8949\n",
      "(6264, 812) (1343, 812)\n"
     ]
    }
   ],
   "source": [
    "dataset = ds.Dataset(\"nels\")\n",
    "dataset.split_train_test()\n",
    "print(dataset.x_train.shape, dataset.x_test.shape)"
   ]
  },
  {
   "cell_type": "code",
   "execution_count": 29,
   "id": "7080349a",
   "metadata": {},
   "outputs": [
    {
     "name": "stdout",
     "output_type": "stream",
     "text": [
      "base clf acc: 0.831 male acc: 0.831 female acc: 0.834\n"
     ]
    }
   ],
   "source": [
    "# base predictor\n",
    "clf = LogisticRegression(max_iter=500)\n",
    "clf.fit(dataset.x_train, dataset.y_train)\n",
    "\n",
    "p = clf.predict_proba(dataset.x_test)[:, 1]\n",
    "p_acc = accuracy_score(dataset.y_test, p > 0.5)\n",
    "\n",
    "mask = dataset.g_test == 1\n",
    "white_acc = accuracy_score(dataset.y_test[mask], p[mask] > 0.5)\n",
    "black_acc = accuracy_score(dataset.y_test[~mask], p[~mask] > 0.5)\n",
    "\n",
    "print(\n",
    "    f\"base clf acc: {p_acc:.3f} male acc: {white_acc:.3f} female acc: {black_acc:.3f}\"\n",
    ")"
   ]
  },
  {
   "cell_type": "code",
   "execution_count": 30,
   "id": "d58e473c-faa0-4fae-af0e-b874c53588b1",
   "metadata": {},
   "outputs": [
    {
     "name": "stdout",
     "output_type": "stream",
     "text": [
      "[ 1.4  1.2 -1.2 -1.1  1.1  1.   1.   0.9 -0.9 -0.9]\n"
     ]
    },
    {
     "data": {
      "text/plain": [
       "Index(['G8MINOR_0', 'F22XSSTD', 'F2RHSCG2', 'G8MINOR_7', 'G8REGON_4',\n",
       "       'F22XMSTD', 'F12XSSTD', 'F2ROSO_C', 'G8REGON_3', 'G8MINOR_6'],\n",
       "      dtype='object')"
      ]
     },
     "execution_count": 30,
     "metadata": {},
     "output_type": "execute_result"
    }
   ],
   "source": [
    "# interpret features\n",
    "g_clf = LogisticRegression(max_iter=500)\n",
    "g_clf.fit(dataset.x_train, dataset.g_train)\n",
    "\n",
    "abs_coeff = np.abs(g_clf.coef_.round(1)).flatten()\n",
    "coeff = g_clf.coef_.round(1).flatten()\n",
    "coeff_sorted = coeff[np.argsort(abs_coeff)[::-1]]\n",
    "abs_coeff_sorted = abs_coeff[np.argsort(abs_coeff)[::-1]]\n",
    "print(coeff_sorted[:10])\n",
    "dataset.x_labels[np.argsort(abs_coeff)[::-1][:10]]"
   ]
  },
  {
   "cell_type": "markdown",
   "id": "054480bc-40f4-434c-bbd2-cd28401e0ffd",
   "metadata": {},
   "source": [
    "Top 10 Contributers to race: \n",
    "- 'G8MINOR_0' # PERCENT MINORITY IN SCHOOL\n",
    "- 'F22XSSTD' # SCIENCE STANDARDIZED SCORE\n",
    "- 'F12XSSTD' #SCIENCE STANDARDIZED SCORE\n",
    "- 'G8MINOR_7'  # PERCENT MINORITY IN SCHOOL\n",
    "- 'F2ROSO_C' #UNITS IN OTHER SOC. STUDIES (NAEP)\n",
    "- 'G8REGON_3' #COMPOSITE GEOGRAPHIC REGION OF SCHOOL\n",
    "- 'G8MINOR_6' # PERCENT MINORITY IN SCHOOL\n",
    "- 'G8REGON_4' # COMPOSITE GEOGRAPHIC REGION OF SCHOOL\n",
    "- 'F22XMSTD' #MATHEMATICS STANDARDIZED SCORE \n",
    "- 'G8MINOR_4' #  PERCENT MINORITY IN SCHOOL"
   ]
  },
  {
   "cell_type": "code",
   "execution_count": 13,
   "id": "4e4e4e09-0e36-48a3-a209-6dd1de5d9f87",
   "metadata": {},
   "outputs": [],
   "source": [
    "standarized_test_features = [\n",
    "    \"F12XRSTD\",\n",
    "    \"F12XMSTD\",\n",
    "    \"F12XSSTD\",\n",
    "    \"F12XHSTD\",\n",
    "    \"F22XRSTD\",\n",
    "    \"F22XMSTD\",\n",
    "    \"F22XSSTD\",\n",
    "    \"F22XHSTD\",\n",
    "    \"BY2XRSTD\",\n",
    "    \"BY2XMSTD\",\n",
    "    \"BY2XSSTD\",\n",
    "    \"BY2XHSTD\",\n",
    "]\n",
    "freelunch_minority = [\n",
    "    \"G8MINOR_0\",\n",
    "    \"G8MINOR_1\",\n",
    "    \"G8MINOR_2\",\n",
    "    \"G8MINOR_3\",\n",
    "    \"G8MINOR_4\",\n",
    "    \"G8MINOR_5\",\n",
    "    \"G8MINOR_6\",\n",
    "    \"G8MINOR_7\",\n",
    "    \"G8MINOR_998\",\n",
    "    \"G8MINOR_999\",\n",
    "    \"G8LUNCH_0\",\n",
    "    \"G8LUNCH_1\",\n",
    "    \"G8LUNCH_2\",\n",
    "    \"G8LUNCH_3\",\n",
    "    \"G8LUNCH_4\",\n",
    "    \"G8LUNCH_5\",\n",
    "    \"G8LUNCH_6\",\n",
    "    \"G8LUNCH_7\",\n",
    "    \"G8LUNCH_998\",\n",
    "    \"G8LUNCH_999\",\n",
    "]"
   ]
  },
  {
   "cell_type": "code",
   "execution_count": 14,
   "id": "705c81e9-2e61-42e2-9e2b-d349ffea3a37",
   "metadata": {},
   "outputs": [],
   "source": [
    "# use 64 dim\n",
    "n_dim = 32\n",
    "pca = PCA(n_components=n_dim)\n",
    "dataset.x_pca_train = pca.fit_transform(dataset.x_train)\n",
    "dataset.x_pca_test = pca.transform(dataset.x_test)\n",
    "\n",
    "\n",
    "def find_means(features: np.array, group_labels: np.array):\n",
    "    ## assume group labels are 1 and 0\n",
    "    group1 = features[group_labels]\n",
    "    group2 = features[~group_labels]\n",
    "    # print(group1.mean(axis=0).shape)\n",
    "    means = np.stack([group1.mean(axis=0), group2.mean(axis=0)])\n",
    "    return means"
   ]
  },
  {
   "cell_type": "code",
   "execution_count": 31,
   "id": "9c2b81b1-d240-4c7e-8e3c-1ab5296535be",
   "metadata": {},
   "outputs": [
    {
     "name": "stdout",
     "output_type": "stream",
     "text": [
      "0.8831953558585398\n"
     ]
    }
   ],
   "source": [
    "# stereotype predictors:\n",
    "# 1) overall pg\n",
    "all_pg_clf = LogisticRegression(max_iter=500)\n",
    "all_pg_clf.fit(dataset.x_train, dataset.g_train)\n",
    "all_pg = all_pg_clf.predict_proba(dataset.x_test)[:, 1]\n",
    "\n",
    "# 2) harmful features\n",
    "feature_indices = np.array(\n",
    "    [\n",
    "        list(dataset.x_labels).index(key)\n",
    "        for key in freelunch_minority\n",
    "        if key in dataset.x_labels\n",
    "    ]\n",
    ")\n",
    "dataset.x_harmful_train = dataset.x_train[:, feature_indices]\n",
    "dataset.x_harmful_test = dataset.x_test[:, feature_indices]\n",
    "\n",
    "test_pg_clf_base = LogisticRegression(max_iter=500)\n",
    "test_pg_clf_base = test_pg_clf_base.fit(dataset.x_harmful_train, dataset.g_train)\n",
    "test_pg_clf = md.HarmfulFeaturesClassifier(\n",
    "    base_clf=test_pg_clf_base, feature_ind=feature_indices\n",
    ")\n",
    "test_pg = test_pg_clf.predict_proba(dataset.x_test)[:, 1]\n",
    "print(test_pg.mean())\n",
    "\n",
    "# 3) clustering\n",
    "cntr = find_means(dataset.x_pca_train, dataset.g_train)\n",
    "cluster_pg_clf = md.FuzzyClusterPredictor(cntr, reduce_fn=pca)\n",
    "cluster_pg = cluster_pg_clf.predict_proba(dataset.x_test)[:, 1]"
   ]
  },
  {
   "cell_type": "code",
   "execution_count": 16,
   "id": "6c46e94f-2453-4006-8db9-990971540170",
   "metadata": {},
   "outputs": [
    {
     "name": "stdout",
     "output_type": "stream",
     "text": [
      "all_pg\n",
      "acc 0.908\n",
      "cov(y, pg) 0.018279171936434604\n",
      "corr(y, pg) PearsonRResult(statistic=np.float64(0.14410099848590305), pvalue=np.float64(1.1350988979164644e-07))\n",
      "cov(p, pg) 0.015579639693589121\n",
      "corr(p, pg) PearsonRResult(statistic=np.float64(0.1637802440776078), pvalue=np.float64(1.567435713999778e-09))\n",
      "cov(p, pg | y=1) 0.006660881287347332\n",
      "corr(p, pg | y=1) PearsonRResult(statistic=np.float64(0.1276016312845891), pvalue=np.float64(0.004383223212446546))\n",
      "harm_pg\n",
      "acc 0.911\n",
      "cov(y, pg) 0.013414631770374842\n",
      "corr(y, pg) PearsonRResult(statistic=np.float64(0.14599879546841757), pvalue=np.float64(7.690148653626196e-08))\n",
      "cov(p, pg) 0.011256541148767962\n",
      "corr(p, pg) PearsonRResult(statistic=np.float64(0.163368797489877), pvalue=np.float64(1.7238595179360417e-09))\n",
      "cov(p, pg | y=1) 0.005803916273265265\n",
      "corr(p, pg | y=1) PearsonRResult(statistic=np.float64(0.14598188491774905), pvalue=np.float64(0.0010994717864576996))\n",
      "cluster_pg\n",
      "acc 0.844\n",
      "cov(y, pg) 0.005547332924725184\n",
      "corr(y, pg) PearsonRResult(statistic=np.float64(0.14678969416010312), pvalue=np.float64(6.528622999738346e-08))\n",
      "cov(p, pg) 0.005197427270687299\n",
      "corr(p, pg) PearsonRResult(statistic=np.float64(0.18339749003531602), pvalue=np.float64(1.2682033116260472e-11))\n",
      "cov(p, pg | y=1) -0.0009162912691654072\n",
      "corr(p, pg | y=1) PearsonRResult(statistic=np.float64(-0.06258847641594993), pvalue=np.float64(0.16356876785872246))\n"
     ]
    }
   ],
   "source": [
    "# evaluate stereotype predictors\n",
    "# clf\n",
    "\n",
    "results = {}\n",
    "p = clf.predict_proba(dataset.x_test)[:, 1]\n",
    "for pg, name in zip([all_pg, test_pg, cluster_pg], [\"all_pg\", \"harm_pg\", \"cluster_pg\"]):\n",
    "    print(name)\n",
    "    # group prediction accuracy\n",
    "    print(f\"acc {accuracy_score(dataset.g_test, pg>0.5):.3f}\")\n",
    "    print(\"cov(y, pg)\", ut.emp_cov(dataset.y_test, pg))\n",
    "    print(\"corr(y, pg)\", stats.pearsonr(dataset.y_test, pg))\n",
    "    print(\"cov(p, pg)\", ut.emp_cov(p, pg))\n",
    "    print(\"corr(p, pg)\", stats.pearsonr(p, pg))\n",
    "    results[name] = {}\n",
    "    results[name][\"DP\"] = ut.emp_cov(p, pg)\n",
    "    results[name][\"DP_corr\"] = stats.pearsonr(p, pg)\n",
    "\n",
    "    mask = dataset.y_test == 1\n",
    "    print(\"cov(p, pg | y=1)\", ut.emp_cov(p[mask], pg[mask]))\n",
    "    print(\"corr(p, pg | y=1)\", stats.pearsonr(p[mask], pg[mask]))\n",
    "    results[name][\"EO\"] = ut.emp_cov(p[mask], pg[mask])\n",
    "    results[name][\"EO_corr\"] = stats.pearsonr(p[mask], pg[mask])\n",
    "\n",
    "    results[name][\"MA\"] = np.abs(ut.emp_cov(p, pg) - ut.emp_cov(dataset.y_test, pg))"
   ]
  },
  {
   "cell_type": "markdown",
   "id": "ef4493a2-afe4-4d3e-b703-985fc778d0a1",
   "metadata": {},
   "source": [
    "## Demographic Parity"
   ]
  },
  {
   "cell_type": "code",
   "execution_count": null,
   "id": "f68a115f-cadb-4c1e-b0fa-15e33b2f23cb",
   "metadata": {
    "scrolled": true
   },
   "outputs": [],
   "source": [
    "DP_plot = []\n",
    "# DP Post Processing\n",
    "dataset = dataset\n",
    "\n",
    "cv = ShuffleSplit(\n",
    "    n_splits=5, test_size=0.1, random_state=42\n",
    ")  # change the number of splits here\n",
    "\n",
    "i = 0\n",
    "\n",
    "for train_idx, _ in cv.split(dataset.x_train, dataset.y_train):\n",
    "    i += 1\n",
    "    # 1. Subsampled data\n",
    "    x_train_sub = dataset.x_train[train_idx]\n",
    "    y_train_sub = dataset.y_train[train_idx]\n",
    "    g_train_sub = dataset.g_train[train_idx]\n",
    "\n",
    "    # 2. Fit models\n",
    "    clf = LogisticRegression()\n",
    "    clf.fit(x_train_sub, y_train_sub)\n",
    "\n",
    "    # 1) stereotype associations\n",
    "    all_pg_clf = LogisticRegression()\n",
    "    all_pg_clf.fit(x_train_sub, g_train_sub)\n",
    "\n",
    "    # 2) harmful stereotypes\n",
    "    test_pg_clf_base = LogisticRegression()\n",
    "    test_pg_clf_base = test_pg_clf_base.fit(\n",
    "        x_train_sub[:, feature_indices], g_train_sub\n",
    "    )\n",
    "    test_pg_clf = md.HarmfulFeaturesClassifier(\n",
    "        base_clf=test_pg_clf_base, feature_ind=feature_indices\n",
    "    )\n",
    "\n",
    "    # 2c) clustering\n",
    "    cntr = find_means(pca.transform(x_train_sub), g_train_sub)\n",
    "    cluster_pg_clf = md.FuzzyClusterPredictor(cntr, reduce_fn=pca)\n",
    "\n",
    "    pg_dict = {\n",
    "        \"all_pg\": all_pg_clf,\n",
    "        \"harm_pg\": test_pg_clf,\n",
    "        \"cluster_pg\": cluster_pg_clf,\n",
    "    }\n",
    "\n",
    "    prev_results = ut.results_summary(\n",
    "        p=clf.predict_proba(dataset.x_test)[:, 1],\n",
    "        pg_dict=pg_dict,\n",
    "        x=dataset.x_test,\n",
    "        y=dataset.y_test,\n",
    "        g=dataset.g_test,\n",
    "    )\n",
    "\n",
    "    clfs = [\n",
    "        ([all_pg_clf], r\"$\\hat{p}_g^{(all)}$\"),\n",
    "        ([test_pg_clf], r\"$\\hat{p}_g^{(harm)}$\"),\n",
    "        ([cluster_pg_clf], r\"$\\hat{p}_g^{(FCM)}$\"),\n",
    "        (\n",
    "            [all_pg_clf, test_pg_clf, cluster_pg_clf],\n",
    "            r\"$(\\hat{p}_g^{(all)}, \\hat{p}_g^{(harm)}, \\hat{p}_g^{(FCM)})$\",\n",
    "        ),\n",
    "    ]\n",
    "\n",
    "    for clf_list, clf_list_name in clfs:\n",
    "        # 2. Refit models\n",
    "        clf = LogisticRegression()\n",
    "        clf.fit(x_train_sub, y_train_sub)\n",
    "\n",
    "        if clf_list_name == r\"$\\hat{p}_g^{(all)}$\":\n",
    "            for key in pg_dict.keys():\n",
    "                DP_plot.append(\n",
    "                    {\n",
    "                        \"eval_pg\": key,\n",
    "                        \"intervention_pg\": \"None\",\n",
    "                        \"value\": prev_results[f\"cov(p, {key})\"],\n",
    "                        \"run\": i,\n",
    "                        \"acc\": prev_results[\"accuracy\"],\n",
    "                    }\n",
    "                )\n",
    "\n",
    "        c_post_processed = md.DPMulti(base_clf=clf, pg_clf_list=clf_list)\n",
    "        md.fit_dp_pg_multi(\n",
    "            x=x_train_sub, multi_clf=c_post_processed, alpha=1e-4, max_iter=10\n",
    "        )  # change the number of iterations\n",
    "\n",
    "        results = ut.results_summary(\n",
    "            p=c_post_processed.predict_proba_1d(dataset.x_test),\n",
    "            pg_dict=pg_dict,\n",
    "            x=dataset.x_test,\n",
    "            y=dataset.y_test,\n",
    "            g=dataset.g_test,\n",
    "        )\n",
    "        for key in pg_dict.keys():\n",
    "            DP_plot.append(\n",
    "                {\n",
    "                    \"eval_pg\": key,\n",
    "                    \"intervention_pg\": f\"DP wrt. {clf_list_name}\",\n",
    "                    \"value\": results[f\"cov(p, {key})\"],\n",
    "                    \"acc\": results[\"accuracy\"],\n",
    "                    \"run\": i,\n",
    "                }\n",
    "            )"
   ]
  },
  {
   "cell_type": "code",
   "execution_count": 27,
   "id": "ce68e8c9-fd21-4e59-beec-b2f26a236c1b",
   "metadata": {},
   "outputs": [],
   "source": [
    "plot_df = pd.DataFrame(DP_plot)\n",
    "plot_map = {\n",
    "    \"all_pg\": r\"$\\hat{p}_g^{(all)}$\",\n",
    "    \"harm_pg\": r\"$\\hat{p}_g^{(harm)}$\",\n",
    "    \"cluster_pg\": r\"$\\hat{p}_g^{(FCM)}$\",\n",
    "}\n",
    "plot_df[\"eval_pg\"] = plot_df[\"eval_pg\"].map(plot_map)\n",
    "acc_dict = plot_df.groupby(\"intervention_pg\")[\"acc\"].mean().to_dict()\n",
    "plot_df.to_csv(\"results/nels_dp_v2.csv\")"
   ]
  },
  {
   "cell_type": "code",
   "execution_count": 28,
   "id": "f02bea60-0c2c-472b-9fda-569e0273cd15",
   "metadata": {},
   "outputs": [
    {
     "name": "stdout",
     "output_type": "stream",
     "text": [
      "DP wrt. $\\hat{p}_g^{(all)}$\n",
      "DP wrt. $\\hat{p}_g^{(harm)}$\n",
      "DP wrt. $\\hat{p}_g^{(FCM)}$\n",
      "DP wrt. $(\\hat{p}_g^{(all)}, \\hat{p}_g^{(law)}, \\hat{p}_g^{(FCM)})$\n"
     ]
    },
    {
     "data": {
      "image/png": "[encoded data removed]",
      "text/plain": [
       "<Figure size 1500x400 with 4 Axes>"
      ]
     },
     "metadata": {},
     "output_type": "display_data"
    }
   ],
   "source": [
    "plot_df[\"abs_value\"] = plot_df[\"value\"].map(np.abs)\n",
    "\n",
    "fig, axes = plt.subplots(1, 4, figsize=(15, 4), sharey=True)\n",
    "\n",
    "for i, key in enumerate(plot_df[\"intervention_pg\"].value_counts().index[1:]):\n",
    "    print(key)\n",
    "    ax = axes.flatten()[i]\n",
    "    subplot_df = plot_df[plot_df[\"intervention_pg\"].isin([key, \"None\"])]\n",
    "    sns.barplot(\n",
    "        data=subplot_df, x=\"eval_pg\", y=\"abs_value\", hue=\"intervention_pg\", ax=ax\n",
    "    )\n",
    "    ax.legend(title=None, loc=\"upper right\")\n",
    "    ax.set_ylim(-0.001, 0.025)\n",
    "    ax.set_xlabel(r\"$\\hat{p}_g$\")\n",
    "    ax.set_ylabel(r\"DP $Cov(p, \\hat{p}_g)$\")\n",
    "    ax.set_title(f\"{key} (Acc. {acc_dict[key]:.3f})\")\n",
    "\n",
    "plt.tight_layout()\n",
    "plt.savefig(\"img/nels/dp_all_nels.pdf\")"
   ]
  },
  {
   "cell_type": "markdown",
   "id": "b0c436a6-d602-4b47-a96f-1f85c2fbf031",
   "metadata": {},
   "source": [
    "## Equal Opportunity"
   ]
  },
  {
   "cell_type": "code",
   "execution_count": null,
   "id": "3ee9e4e2-6fb5-4a6a-bf73-f6766439fd96",
   "metadata": {
    "scrolled": true
   },
   "outputs": [],
   "source": [
    "# DP Post Processing\n",
    "EO_plot = []\n",
    "\n",
    "cv = ShuffleSplit(n_splits=10, test_size=0.1, random_state=42)\n",
    "acc_list = []\n",
    "\n",
    "i = 0\n",
    "for train_idx, _ in cv.split(dataset.x_train, dataset.y_train):\n",
    "    i += 1\n",
    "    # 1. Subsampled data\n",
    "    x_train_sub = dataset.x_train[train_idx]\n",
    "    y_train_sub = dataset.y_train[train_idx]\n",
    "    g_train_sub = dataset.g_train[train_idx]\n",
    "\n",
    "    # 2) harmful stereotypes\n",
    "    test_pg_clf_base = LogisticRegression()\n",
    "    test_pg_clf_base = test_pg_clf_base.fit(\n",
    "        x_train_sub[:, feature_indices], g_train_sub\n",
    "    )\n",
    "    test_pg_clf = md.HarmfulFeaturesClassifier(\n",
    "        base_clf=test_pg_clf_base, feature_ind=feature_indices\n",
    "    )\n",
    "\n",
    "    # 2c) clustering\n",
    "    cntr = find_means(pca.transform(x_train_sub), g_train_sub)\n",
    "    cluster_pg_clf = md.FuzzyClusterPredictor(cntr, reduce_fn=pca)\n",
    "\n",
    "    pg_dict = {\n",
    "        \"all_pg\": all_pg_clf,\n",
    "        \"harm_pg\": test_pg_clf,\n",
    "        \"cluster_pg\": cluster_pg_clf,\n",
    "    }\n",
    "\n",
    "    prev_results = ut.results_summary(\n",
    "        p=clf.predict_proba(dataset.x_test)[:, 1],\n",
    "        pg_dict=pg_dict,\n",
    "        x=dataset.x_test,\n",
    "        y=dataset.y_test,\n",
    "        g=dataset.g_test,\n",
    "    )\n",
    "\n",
    "    clfs = [\n",
    "        ([all_pg_clf], r\"$\\hat{p}_g^{(all)}$\"),\n",
    "        ([test_pg_clf], r\"$\\hat{p}_g^{(harm)}$\"),\n",
    "        ([cluster_pg_clf], r\"$\\hat{p}_g^{(FCM)}$\"),\n",
    "        (\n",
    "            [all_pg_clf, test_pg_clf, cluster_pg_clf],\n",
    "            r\"$(\\hat{p}_g^{(all)}, \\hat{p}_g^{(harm)}, \\hat{p}_g^{(FCM)})$\",\n",
    "        ),\n",
    "    ]\n",
    "\n",
    "    for clf_list, clf_list_name in clfs:\n",
    "\n",
    "        if clf_list_name == r\"$\\hat{p}_g^{(all)}$\":\n",
    "            for key in pg_dict.keys():\n",
    "                EO_plot.append(\n",
    "                    {\n",
    "                        \"eval_pg\": key,\n",
    "                        \"intervention_pg\": \"None\",\n",
    "                        \"value\": np.abs(prev_results[f\"cov(p, {key} |y=1)\"]),\n",
    "                        \"run\": i,\n",
    "                        \"acc\": prev_results[\"accuracy\"],\n",
    "                    }\n",
    "                )\n",
    "\n",
    "        eo_clf = md.EOClf(base_clf=clf, pg_clf_list=clf_list)\n",
    "        eo_clf.fit_exact(x=x_train_sub, y=y_train_sub)\n",
    "\n",
    "        results = ut.results_summary(\n",
    "            p=eo_clf.predict_proba(dataset.x_test)[:, 1],\n",
    "            pg_dict=pg_dict,\n",
    "            x=dataset.x_test,\n",
    "            y=dataset.y_test,\n",
    "            g=dataset.g_test,\n",
    "        )\n",
    "        for key in pg_dict.keys():\n",
    "            EO_plot.append(\n",
    "                {\n",
    "                    \"eval_pg\": key,\n",
    "                    \"intervention_pg\": f\"EO wrt. {clf_list_name}\",\n",
    "                    \"value\": np.abs(results[f\"cov(p, {key} |y=1)\"]),\n",
    "                    \"acc\": results[\"accuracy\"],\n",
    "                    \"run\": i,\n",
    "                }\n",
    "            )"
   ]
  },
  {
   "cell_type": "code",
   "execution_count": 54,
   "id": "cd096fb7-b300-44f5-a5fb-71d578c5ef8a",
   "metadata": {},
   "outputs": [
    {
     "name": "stdout",
     "output_type": "stream",
     "text": [
      "EO wrt. $\\hat{p}_g^{(all)}$\n",
      "EO wrt. $\\hat{p}_g^{(harm)}$\n",
      "EO wrt. $\\hat{p}_g^{(FCM)}$\n",
      "EO wrt. $(\\hat{p}_g^{(all)}, \\hat{p}_g^{(law)}, \\hat{p}_g^{(FCM)})$\n"
     ]
    },
    {
     "data": {
      "image/png": "[encoded data removed]",
      "text/plain": [
       "<Figure size 1500x400 with 4 Axes>"
      ]
     },
     "metadata": {},
     "output_type": "display_data"
    }
   ],
   "source": [
    "plot_df = pd.DataFrame(EO_plot)\n",
    "plot_map = {\n",
    "    \"all_pg\": r\"$\\hat{p}_g^{(all)}$\",\n",
    "    \"harm_pg\": r\"$\\hat{p}_g^{(harm)}$\",\n",
    "    \"cluster_pg\": r\"$\\hat{p}_g^{(FCM)}$\",\n",
    "}\n",
    "plot_df[\"eval_pg\"] = plot_df[\"eval_pg\"].map(plot_map)\n",
    "acc_dict = plot_df.groupby(\"intervention_pg\")[\"acc\"].mean().to_dict()\n",
    "\n",
    "fig, axes = plt.subplots(1, 4, figsize=(15, 4), sharey=True)\n",
    "\n",
    "for i, key in enumerate(plot_df[\"intervention_pg\"].value_counts().index[1:]):\n",
    "    print(key)\n",
    "    ax = axes.flatten()[i]\n",
    "    subplot_df = plot_df[plot_df[\"intervention_pg\"].isin([key, \"None\"])]\n",
    "    sns.barplot(data=subplot_df, x=\"eval_pg\", y=\"value\", hue=\"intervention_pg\", ax=ax)\n",
    "    ax.legend(title=None, loc=\"upper right\")\n",
    "    ax.set_ylim(-0.00, 0.008)\n",
    "    ax.set_xlabel(r\"$\\hat{p}_g$\")\n",
    "    ax.set_ylabel(r\"EO $Cov(p, \\hat{p}_g |y=1)$\")\n",
    "    ax.set_title(f\"{key} (Acc. {acc_dict[key]:.3f})\")\n",
    "\n",
    "plt.tight_layout()\n",
    "plt.savefig(\"img/nels/eo_all_nels.pdf\")"
   ]
  }
 ],
 "metadata": {
  "kernelspec": {
   "display_name": "Python 3 (ipykernel)",
   "language": "python",
   "name": "python3"
  },
  "language_info": {
   "codemirror_mode": {
    "name": "ipython",
    "version": 3
   },
   "file_extension": ".py",
   "mimetype": "text/x-python",
   "name": "python",
   "nbconvert_exporter": "python",
   "pygments_lexer": "ipython3",
   "version": "3.11.11"
  }
 },
 "nbformat": 4,
 "nbformat_minor": 5
}
